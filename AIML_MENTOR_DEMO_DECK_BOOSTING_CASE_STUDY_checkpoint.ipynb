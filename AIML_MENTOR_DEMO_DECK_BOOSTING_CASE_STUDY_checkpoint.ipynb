{
  "cells": [
    {
      "cell_type": "markdown",
      "metadata": {
        "id": "view-in-github",
        "colab_type": "text"
      },
      "source": [
        "<a href=\"https://colab.research.google.com/github/bkn872/computer_vision/blob/main/AIML_MENTOR_DEMO_DECK_BOOSTING_CASE_STUDY_checkpoint.ipynb\" target=\"_parent\"><img src=\"https://colab.research.google.com/assets/colab-badge.svg\" alt=\"Open In Colab\"/></a>"
      ]
    },
    {
      "cell_type": "markdown",
      "metadata": {
        "id": "02HKYGwt-VvD"
      },
      "source": [
        "- - - - - - - - - - - - - - - - - - - - - - - - - - - - - - - - - - - - - - - - - - - - - -\n",
        "![alt text](GL_Logo.png \"Title\")\n",
        "- - - - - - - - - - - - - - - - - - - - - - - - - - - - - - - - - - - - - - - - - - - - - -"
      ]
    },
    {
      "cell_type": "markdown",
      "metadata": {
        "id": "AoU-RnRO-VvM"
      },
      "source": [
        "- - - - - - - - - - - - - - - - - - - - - - - - - - - - - - - - - - - - - - - - - - - - - -\n",
        " \n",
        "## IMAGE CLASSFIER USING FASHION IMAGES\n",
        "\n",
        "#### Author: KRISHNAV DAVE | AIML ACAD OPS TEAM \n",
        "\n",
        "#### Date: AUGUST 2020\n",
        "\n",
        "- - - - - - - - - - - - - - - - - - - - - - - - - - - - - - - - - - - - - - - - - - - - - -"
      ]
    },
    {
      "cell_type": "markdown",
      "metadata": {
        "id": "KvQwMUT--VvN"
      },
      "source": [
        "- - - - - - - - - - - - - - - - - - - - - - - - - - - - - - - - - - - - - - - - - - - - - -\n",
        "\n",
        "## Case study problem statement:  \n",
        "\n",
        "Build and delpoy an image classfier using BOOSTING algorithm\n",
        "\n",
        "### Input data details\n",
        "\n",
        "Fashion (fashion_mnist) dataset from Keras comes preloaded with  train and test images along with the labels.\n",
        "\n",
        "\n",
        "Number of images = 70000 \n",
        "    1. Training images = 60000\n",
        "    2. Testig images = 10000\n",
        "    3. Image size = 28 x 28\n",
        "    4. Channel = 1\n",
        "\n",
        "Labels: \n",
        "\n",
        "    0. T-shirt/top\n",
        "    1. Trouser\n",
        "    2. Pullover\n",
        "    3. Dress\n",
        "    4. Coat\n",
        "    5. Sandal\n",
        "    6. Shirt\n",
        "    7. Sneaker\n",
        "    8. Bag\n",
        "    9. Ankle boot\n",
        "\n",
        "### Expected output details: \n",
        "\n",
        "1. SVM based image classifier\n",
        "2. Web or UI based deployment for SVM classifier\n",
        "\n",
        "- - - - - - - - - - - - - - - - - - - - - - - - - - - - - - - - - - - - - - - - - - - - - -"
      ]
    },
    {
      "cell_type": "code",
      "source": [
        "import numpy as np\n",
        "import pandas as pd\n",
        "from sklearn.model_selection import train_test_split\n",
        "from sklearn.metrics import classification_report\n",
        "from tensorflow.python import keras\n",
        "from tensorflow.python.keras.models import Sequential\n",
        "from tensorflow.python.keras.layers import Dense, Flatten, Conv2D, Dropout, MaxPooling2D\n",
        "from IPython.display import SVG\n",
        "from keras.utils.vis_utils import model_to_dot\n",
        "#from keras.utils import plot_model\n",
        "import seaborn as sns\n",
        "import matplotlib.pyplot as plt\n",
        "%matplotlib inline \n",
        "import plotly.graph_objs as go\n",
        "import plotly.figure_factory as ff\n",
        "from plotly import tools\n",
        "from plotly.offline import download_plotlyjs, init_notebook_mode, plot, iplot\n",
        "init_notebook_mode(connected=True)"
      ],
      "metadata": {
        "colab": {
          "base_uri": "https://localhost:8080/",
          "height": 17
        },
        "id": "te1kwI7n6TR4",
        "outputId": "5775772e-cac7-4aee-b2bb-fd9b31e67225"
      },
      "execution_count": null,
      "outputs": [
        {
          "output_type": "display_data",
          "data": {
            "text/html": [
              "        <script type=\"text/javascript\">\n",
              "        window.PlotlyConfig = {MathJaxConfig: 'local'};\n",
              "        if (window.MathJax) {MathJax.Hub.Config({SVG: {font: \"STIX-Web\"}});}\n",
              "        if (typeof require !== 'undefined') {\n",
              "        require.undef(\"plotly\");\n",
              "        requirejs.config({\n",
              "            paths: {\n",
              "                'plotly': ['https://cdn.plot.ly/plotly-2.8.3.min']\n",
              "            }\n",
              "        });\n",
              "        require(['plotly'], function(Plotly) {\n",
              "            window._Plotly = Plotly;\n",
              "        });\n",
              "        }\n",
              "        </script>\n",
              "        "
            ]
          },
          "metadata": {}
        }
      ]
    },
    {
      "cell_type": "markdown",
      "metadata": {
        "id": "LHB4Z6mp-VvO"
      },
      "source": [
        "- - - - - - - - - - - - - - - - - - - - - - - - - - - - - - - - - - - - - - - - - - - - - -\n",
        "\n",
        "## Case study approach:\n",
        "\n",
        "#### Step 1: Universal Library and Package declaration\n",
        "\n",
        "#### Step 2: Import data to python\n",
        "\n",
        "#### Step 3: Clean, prepare and validate data \n",
        "\n",
        "#### Step 4: Inferential Statistics\n",
        "\n",
        "#### Step 5: Exploratory Data Analysis\n",
        "\n",
        "#### Step 6: Data Preprocessing for Model Implementation\n",
        "\n",
        "#### Step 7: Model Design Tuning and Testing\n",
        "\n",
        "#### Step 8: Model pickling\n",
        "\n",
        "#### Step 9: Model deployment ( Web or UI )\n",
        "\n",
        "#### Step 10: Conclusion\n",
        "\n",
        "- - - - - - - - - - - - - - - - - - - - - - - - - - - - - - - - - - - - - - - - - - - - - -"
      ]
    },
    {
      "cell_type": "markdown",
      "metadata": {
        "id": "SshY55wF-VvP"
      },
      "source": [
        "### Step 1: Universal Library and Package declaration"
      ]
    },
    {
      "cell_type": "code",
      "source": [
        "from keras.layers.embeddings import Embedding\n",
        "import tensorflow as tf\n",
        "import keras "
      ],
      "metadata": {
        "id": "rNZShpBvr7MM"
      },
      "execution_count": null,
      "outputs": []
    },
    {
      "cell_type": "code",
      "execution_count": null,
      "metadata": {
        "id": "dLgI7Nya-VvQ",
        "outputId": "2a3bcc9b-e558-4374-8f89-a20a0ce24cf9",
        "colab": {
          "base_uri": "https://localhost:8080/"
        }
      },
      "outputs": [
        {
          "output_type": "stream",
          "name": "stdout",
          "text": [
            "Downloading data from https://storage.googleapis.com/tensorflow/tf-keras-datasets/train-labels-idx1-ubyte.gz\n",
            "32768/29515 [=================================] - 0s 0us/step\n",
            "40960/29515 [=========================================] - 0s 0us/step\n",
            "Downloading data from https://storage.googleapis.com/tensorflow/tf-keras-datasets/train-images-idx3-ubyte.gz\n",
            "26427392/26421880 [==============================] - 0s 0us/step\n",
            "26435584/26421880 [==============================] - 0s 0us/step\n",
            "Downloading data from https://storage.googleapis.com/tensorflow/tf-keras-datasets/t10k-labels-idx1-ubyte.gz\n",
            "16384/5148 [===============================================================================================] - 0s 0us/step\n",
            "Downloading data from https://storage.googleapis.com/tensorflow/tf-keras-datasets/t10k-images-idx3-ubyte.gz\n",
            "4423680/4422102 [==============================] - 0s 0us/step\n",
            "4431872/4422102 [==============================] - 0s 0us/step\n"
          ]
        },
        {
          "output_type": "execute_result",
          "data": {
            "text/plain": [
              "((array([[[0, 0, 0, ..., 0, 0, 0],\n",
              "          [0, 0, 0, ..., 0, 0, 0],\n",
              "          [0, 0, 0, ..., 0, 0, 0],\n",
              "          ...,\n",
              "          [0, 0, 0, ..., 0, 0, 0],\n",
              "          [0, 0, 0, ..., 0, 0, 0],\n",
              "          [0, 0, 0, ..., 0, 0, 0]],\n",
              "  \n",
              "         [[0, 0, 0, ..., 0, 0, 0],\n",
              "          [0, 0, 0, ..., 0, 0, 0],\n",
              "          [0, 0, 0, ..., 0, 0, 0],\n",
              "          ...,\n",
              "          [0, 0, 0, ..., 0, 0, 0],\n",
              "          [0, 0, 0, ..., 0, 0, 0],\n",
              "          [0, 0, 0, ..., 0, 0, 0]],\n",
              "  \n",
              "         [[0, 0, 0, ..., 0, 0, 0],\n",
              "          [0, 0, 0, ..., 0, 0, 0],\n",
              "          [0, 0, 0, ..., 0, 0, 0],\n",
              "          ...,\n",
              "          [0, 0, 0, ..., 0, 0, 0],\n",
              "          [0, 0, 0, ..., 0, 0, 0],\n",
              "          [0, 0, 0, ..., 0, 0, 0]],\n",
              "  \n",
              "         ...,\n",
              "  \n",
              "         [[0, 0, 0, ..., 0, 0, 0],\n",
              "          [0, 0, 0, ..., 0, 0, 0],\n",
              "          [0, 0, 0, ..., 0, 0, 0],\n",
              "          ...,\n",
              "          [0, 0, 0, ..., 0, 0, 0],\n",
              "          [0, 0, 0, ..., 0, 0, 0],\n",
              "          [0, 0, 0, ..., 0, 0, 0]],\n",
              "  \n",
              "         [[0, 0, 0, ..., 0, 0, 0],\n",
              "          [0, 0, 0, ..., 0, 0, 0],\n",
              "          [0, 0, 0, ..., 0, 0, 0],\n",
              "          ...,\n",
              "          [0, 0, 0, ..., 0, 0, 0],\n",
              "          [0, 0, 0, ..., 0, 0, 0],\n",
              "          [0, 0, 0, ..., 0, 0, 0]],\n",
              "  \n",
              "         [[0, 0, 0, ..., 0, 0, 0],\n",
              "          [0, 0, 0, ..., 0, 0, 0],\n",
              "          [0, 0, 0, ..., 0, 0, 0],\n",
              "          ...,\n",
              "          [0, 0, 0, ..., 0, 0, 0],\n",
              "          [0, 0, 0, ..., 0, 0, 0],\n",
              "          [0, 0, 0, ..., 0, 0, 0]]], dtype=uint8),\n",
              "  array([9, 0, 0, ..., 3, 0, 5], dtype=uint8)),\n",
              " (array([[[0, 0, 0, ..., 0, 0, 0],\n",
              "          [0, 0, 0, ..., 0, 0, 0],\n",
              "          [0, 0, 0, ..., 0, 0, 0],\n",
              "          ...,\n",
              "          [0, 0, 0, ..., 0, 0, 0],\n",
              "          [0, 0, 0, ..., 0, 0, 0],\n",
              "          [0, 0, 0, ..., 0, 0, 0]],\n",
              "  \n",
              "         [[0, 0, 0, ..., 0, 0, 0],\n",
              "          [0, 0, 0, ..., 0, 0, 0],\n",
              "          [0, 0, 0, ..., 0, 0, 0],\n",
              "          ...,\n",
              "          [0, 0, 0, ..., 0, 0, 0],\n",
              "          [0, 0, 0, ..., 0, 0, 0],\n",
              "          [0, 0, 0, ..., 0, 0, 0]],\n",
              "  \n",
              "         [[0, 0, 0, ..., 0, 0, 0],\n",
              "          [0, 0, 0, ..., 0, 0, 0],\n",
              "          [0, 0, 0, ..., 0, 0, 0],\n",
              "          ...,\n",
              "          [0, 0, 0, ..., 0, 0, 0],\n",
              "          [0, 0, 0, ..., 0, 0, 0],\n",
              "          [0, 0, 0, ..., 0, 0, 0]],\n",
              "  \n",
              "         ...,\n",
              "  \n",
              "         [[0, 0, 0, ..., 0, 0, 0],\n",
              "          [0, 0, 0, ..., 0, 0, 0],\n",
              "          [0, 0, 0, ..., 0, 0, 0],\n",
              "          ...,\n",
              "          [0, 0, 0, ..., 0, 0, 0],\n",
              "          [0, 0, 0, ..., 0, 0, 0],\n",
              "          [0, 0, 0, ..., 0, 0, 0]],\n",
              "  \n",
              "         [[0, 0, 0, ..., 0, 0, 0],\n",
              "          [0, 0, 0, ..., 0, 0, 0],\n",
              "          [0, 0, 0, ..., 0, 0, 0],\n",
              "          ...,\n",
              "          [0, 0, 0, ..., 0, 0, 0],\n",
              "          [0, 0, 0, ..., 0, 0, 0],\n",
              "          [0, 0, 0, ..., 0, 0, 0]],\n",
              "  \n",
              "         [[0, 0, 0, ..., 0, 0, 0],\n",
              "          [0, 0, 0, ..., 0, 0, 0],\n",
              "          [0, 0, 0, ..., 0, 0, 0],\n",
              "          ...,\n",
              "          [0, 0, 0, ..., 0, 0, 0],\n",
              "          [0, 0, 0, ..., 0, 0, 0],\n",
              "          [0, 0, 0, ..., 0, 0, 0]]], dtype=uint8),\n",
              "  array([9, 2, 1, ..., 8, 1, 5], dtype=uint8)))"
            ]
          },
          "metadata": {},
          "execution_count": 4
        }
      ],
      "source": [
        "tf.keras.datasets.fashion_mnist.load_data()"
      ]
    },
    {
      "cell_type": "code",
      "source": [
        "fashion_mnist = keras.datasets.fashion_mnist"
      ],
      "metadata": {
        "id": "N0tUx0vrsUH2"
      },
      "execution_count": null,
      "outputs": []
    },
    {
      "cell_type": "markdown",
      "metadata": {
        "id": "WVRXVh8g-VvS"
      },
      "source": [
        "### Step 2: Import data to python"
      ]
    },
    {
      "cell_type": "code",
      "execution_count": null,
      "metadata": {
        "id": "Pqb_Gyk5-VvT"
      },
      "outputs": [],
      "source": [
        "# Load fashion MNIST dataset\n",
        "(X_train,y_train), (X_test,y_test) = fashion_mnist.load_data() "
      ]
    },
    {
      "cell_type": "code",
      "source": [
        "print(X_train.shape)\n",
        "print(y_train.shape)\n",
        "print(X_test.shape)\n",
        "print(y_test.shape)"
      ],
      "metadata": {
        "colab": {
          "base_uri": "https://localhost:8080/"
        },
        "id": "stg9oHOxcUBu",
        "outputId": "bfd1bfa3-4368-4da8-aaaf-24f02fa6a74c"
      },
      "execution_count": null,
      "outputs": [
        {
          "output_type": "stream",
          "name": "stdout",
          "text": [
            "(60000, 28, 28)\n",
            "(60000,)\n",
            "(10000, 28, 28)\n",
            "(10000,)\n"
          ]
        }
      ]
    },
    {
      "cell_type": "code",
      "source": [
        "import matplotlib.pyplot as plt\n",
        "%matplotlib inline\n",
        "print(\"Label: {}\".format(y_train[5000])) # by changing the number we can See the pictures \n",
        "plt.imshow(X_train[5000], cmap='gray')# here also we can change the umber "
      ],
      "metadata": {
        "colab": {
          "base_uri": "https://localhost:8080/",
          "height": 302
        },
        "id": "SW6bRoB-aIWG",
        "outputId": "12510a42-21be-4a82-93eb-7865536689fd"
      },
      "execution_count": null,
      "outputs": [
        {
          "output_type": "stream",
          "name": "stdout",
          "text": [
            "Label: 4\n"
          ]
        },
        {
          "output_type": "execute_result",
          "data": {
            "text/plain": [
              "<matplotlib.image.AxesImage at 0x7fdaa2070b50>"
            ]
          },
          "metadata": {},
          "execution_count": 22
        },
        {
          "output_type": "display_data",
          "data": {
            "text/plain": [
              "<Figure size 432x288 with 1 Axes>"
            ],
            "image/png": "[encoded data removed]"
          },
          "metadata": {
            "needs_background": "light"
          }
        }
      ]
    },
    {
      "cell_type": "markdown",
      "metadata": {
        "id": "004Jona6-VvU"
      },
      "source": [
        "### Step 3: Clean, prepare and validate data "
      ]
    },
    {
      "cell_type": "code",
      "execution_count": null,
      "metadata": {
        "id": "dIvS6XB2-VvV"
      },
      "outputs": [],
      "source": [
        "# to reshape the all images in one similar shape\n",
        "\n",
        "X_train = X_train.reshape(X_train.shape[0], 28, 28, 1)\n",
        "X_test = X_test.reshape(X_test.shape[0], 28, 28, 1)"
      ]
    },
    {
      "cell_type": "code",
      "source": [
        "#Change the Type of data \n",
        "\n",
        "X_train = X_train.astype('float32')\n",
        "X_test = X_test.astype('float32')\n",
        "\n",
        "X_train /= 255\n",
        "X_test /= 255"
      ],
      "metadata": {
        "id": "fKPBjnllg_1V"
      },
      "execution_count": null,
      "outputs": []
    },
    {
      "cell_type": "code",
      "source": [
        "print(\"X_train shape:\", X_train.shape)\n",
        "print(\"Images in X_train:\", X_train.shape[0])\n",
        "print(\"Images in X_test:\", X_test.shape[0])\n",
        "print(\"Max value in X_train:\", X_train.max())\n",
        "print(\"Min value in X_train:\", X_train.min())"
      ],
      "metadata": {
        "colab": {
          "base_uri": "https://localhost:8080/"
        },
        "id": "axOtVSfAhOJj",
        "outputId": "b33e79c9-e5df-4f08-bdbe-943fcbc9abec"
      },
      "execution_count": null,
      "outputs": [
        {
          "output_type": "stream",
          "name": "stdout",
          "text": [
            "X_train shape: (60000, 28, 28, 1)\n",
            "Images in X_train: 60000\n",
            "Images in X_test: 10000\n",
            "Max value in X_train: 1.0\n",
            "Min value in X_train: 0.0\n"
          ]
        }
      ]
    },
    {
      "cell_type": "markdown",
      "source": [
        "One-hot encode the class vector\n",
        "\n",
        "convert class vectors (integers) to binary class matrix\n",
        "\n",
        "\n",
        "convert y_train and y_test\n",
        "\n",
        "number of classes: 10\n",
        "\n",
        "we are doing this to use categorical_crossentropy as loss"
      ],
      "metadata": {
        "id": "rOsOYiOYh5uo"
      }
    },
    {
      "cell_type": "code",
      "source": [
        "from tensorflow.keras.utils import to_categorical\n",
        "\n",
        "y_train = to_categorical(y_train, num_classes=10)\n",
        "y_test = to_categorical(y_test, num_classes=10)\n",
        "\n",
        "print(\"Shape of y_train:\", y_train.shape)\n",
        "print(\"One value of y_train:\", y_train[0])"
      ],
      "metadata": {
        "colab": {
          "base_uri": "https://localhost:8080/"
        },
        "id": "SZLTS_I3hX96",
        "outputId": "4f5b51a9-dde2-4c2a-f5f1-7954b6bfe6e9"
      },
      "execution_count": null,
      "outputs": [
        {
          "output_type": "stream",
          "name": "stdout",
          "text": [
            "Shape of y_train: (60000, 10)\n",
            "One value of y_train: [0. 0. 0. 0. 0. 0. 0. 0. 0. 1.]\n"
          ]
        }
      ]
    },
    {
      "cell_type": "markdown",
      "source": [
        "Initialize a sequential model again"
      ],
      "metadata": {
        "id": "B66Xj80kiTLl"
      }
    },
    {
      "cell_type": "code",
      "source": [
        "from tensorflow.keras.layers import Conv2D\n",
        "\n",
        "model = Sequential()\n",
        "model.add(Conv2D(filters=32, kernel_size=3, activation=\"relu\", input_shape=(28, 28, 1)))\n",
        "model.add(Conv2D(filters=32, kernel_size=3, activation=\"relu\"))\n",
        "model.add(Flatten())\n",
        "model.add(Dense(128, activation=\"relu\"))\n",
        "model.add(Dense(10, activation=\"softmax\"))"
      ],
      "metadata": {
        "id": "vkRZd7CMhwrd"
      },
      "execution_count": null,
      "outputs": []
    },
    {
      "cell_type": "markdown",
      "metadata": {
        "id": "sJetQCLS-VvW"
      },
      "source": [
        "### Step 4: Inferential Statistics"
      ]
    },
    {
      "cell_type": "code",
      "execution_count": null,
      "metadata": {
        "id": "JewZtumT-VvW"
      },
      "outputs": [],
      "source": []
    },
    {
      "cell_type": "markdown",
      "metadata": {
        "id": "4sFH9gYv-VvX"
      },
      "source": [
        "### Step 5: Exploratory Data Analysis"
      ]
    },
    {
      "cell_type": "code",
      "execution_count": null,
      "metadata": {
        "id": "1acuh06H-VvY"
      },
      "outputs": [],
      "source": []
    },
    {
      "cell_type": "markdown",
      "metadata": {
        "id": "ULCszCfL-VvZ"
      },
      "source": [
        "### Step 6: Data Preprocessing for Model Implementation"
      ]
    },
    {
      "cell_type": "code",
      "execution_count": null,
      "metadata": {
        "id": "A2guApNl-VvZ",
        "colab": {
          "base_uri": "https://localhost:8080/"
        },
        "outputId": "a3d30805-0043-421d-839f-ceab86dfe53c"
      },
      "outputs": [
        {
          "metadata": {
            "tags": null
          },
          "name": "stdout",
          "output_type": "stream",
          "text": [
            "Epoch 1/10\n",
            "1313/1313 [==============================] - 97s 73ms/step - loss: 0.4015 - accuracy: 0.8564 - val_loss: 0.3038 - val_accuracy: 0.8903\n",
            "Epoch 2/10\n",
            "1313/1313 [==============================] - 95s 72ms/step - loss: 0.2528 - accuracy: 0.9057 - val_loss: 0.2654 - val_accuracy: 0.9035\n",
            "Epoch 3/10\n",
            "1313/1313 [==============================] - 93s 71ms/step - loss: 0.1822 - accuracy: 0.9328 - val_loss: 0.2657 - val_accuracy: 0.9083\n",
            "Epoch 4/10\n",
            "1313/1313 [==============================] - 92s 70ms/step - loss: 0.1308 - accuracy: 0.9521 - val_loss: 0.2653 - val_accuracy: 0.9148\n",
            "Epoch 5/10\n",
            "1313/1313 [==============================] - 91s 69ms/step - loss: 0.0900 - accuracy: 0.9664 - val_loss: 0.3107 - val_accuracy: 0.9119\n",
            "Epoch 6/10\n",
            "1313/1313 [==============================] - 93s 71ms/step - loss: 0.0590 - accuracy: 0.9781 - val_loss: 0.3592 - val_accuracy: 0.9110\n",
            "Epoch 7/10\n",
            "1313/1313 [==============================] - 92s 70ms/step - loss: 0.0402 - accuracy: 0.9854 - val_loss: 0.3770 - val_accuracy: 0.9090\n",
            "Epoch 8/10\n",
            "1313/1313 [==============================] - 93s 71ms/step - loss: 0.0301 - accuracy: 0.9892 - val_loss: 0.4534 - val_accuracy: 0.9093\n",
            "Epoch 9/10\n",
            "1313/1313 [==============================] - 91s 69ms/step - loss: 0.0239 - accuracy: 0.9919 - val_loss: 0.4936 - val_accuracy: 0.9125\n",
            "Epoch 10/10\n",
            "1313/1313 [==============================] - 92s 70ms/step - loss: 0.0202 - accuracy: 0.9937 - val_loss: 0.5201 - val_accuracy: 0.9111\n"
          ]
        },
        {
          "output_type": "execute_result",
          "data": {
            "text/plain": [
              "<tensorflow.python.keras.callbacks.History at 0x7fda9e1505d0>"
            ]
          },
          "metadata": {},
          "execution_count": 29
        }
      ],
      "source": [
        "# Compile the model\n",
        "model.compile(loss=\"categorical_crossentropy\", metrics=[\"accuracy\"], optimizer=\"adam\")\n",
        "\n",
        "# Fit the model\n",
        "model.fit( x=X_train, y=y_train, batch_size=32, epochs=10, validation_split = 0.3)"
      ]
    },
    {
      "cell_type": "markdown",
      "metadata": {
        "id": "E_u7EUvm-Vva"
      },
      "source": [
        "### Step 7: Model Design Tuning and Testing"
      ]
    },
    {
      "cell_type": "code",
      "execution_count": null,
      "metadata": {
        "id": "pUXkXvjV-Vvb",
        "colab": {
          "base_uri": "https://localhost:8080/"
        },
        "outputId": "232d5412-1341-4bd2-a53f-1f3e09c70ae5"
      },
      "outputs": [
        {
          "output_type": "stream",
          "name": "stdout",
          "text": [
            "313/313 [==============================] - 6s 18ms/step - loss: 0.5597 - accuracy: 0.9049\n"
          ]
        },
        {
          "output_type": "execute_result",
          "data": {
            "text/plain": [
              "[0.5596818327903748, 0.9049000144004822]"
            ]
          },
          "metadata": {},
          "execution_count": 31
        }
      ],
      "source": [
        "model.evaluate(X_test, y_test)"
      ]
    },
    {
      "cell_type": "code",
      "source": [
        "from tensorflow.keras.models import Sequential\n",
        "from tensorflow.keras.layers import Conv2D, Dropout, MaxPooling2D\n",
        "\n",
        "# Initialize the model\n",
        "model = Sequential()\n",
        "\n",
        "# Add a Convolutional Layer with 32 filters of size 3X3 and activation function as 'relu' \n",
        "model.add(Conv2D(filters=32, kernel_size=3, activation=\"relu\", input_shape=(28, 28, 1)))\n",
        "\n",
        "# Add a Convolutional Layer with 32 filters of size 3X3 and activation function as 'relu' \n",
        "model.add(Conv2D(filters=32, kernel_size=3, activation=\"relu\"))\n",
        "\n",
        "# Add a MaxPooling Layer of size 2X2 \n",
        "model.add(MaxPooling2D(pool_size=(2, 2)))\n",
        "\n",
        "# Apply Dropout with 0.2 probability \n",
        "model.add(Dropout(rate=0.2))\n",
        "\n",
        "# Flatten the layer\n",
        "model.add(Flatten())\n",
        "\n",
        "# Add Fully Connected Layer with 128 units and activation function as 'relu'\n",
        "model.add(Dense(128, activation=\"relu\"))\n",
        "\n",
        "#Add Fully Connected Layer with 10 units and activation function as 'softmax'\n",
        "model.add(Dense(10, activation=\"softmax\"))"
      ],
      "metadata": {
        "id": "7x7M_nQUz_p7"
      },
      "execution_count": null,
      "outputs": []
    },
    {
      "cell_type": "code",
      "source": [
        "import tensorflow\n",
        "# Compile the model\n",
        "model.compile(loss=\"categorical_crossentropy\", metrics=[\"accuracy\"], optimizer=\"adam\")\n",
        "\n",
        "# Use earlystopping\n",
        "callback = tensorflow.keras.callbacks.EarlyStopping(monitor='val_accuracy', patience=2, min_delta=0.01)\n",
        "\n",
        "# Fit the model\n",
        "model.fit(x=X_train, y=y_train, batch_size=32, epochs=10, validation_data=(X_test, y_test), callbacks=[callback])"
      ],
      "metadata": {
        "colab": {
          "base_uri": "https://localhost:8080/"
        },
        "id": "i2iLPn0V0JeL",
        "outputId": "ba5982a2-c8f8-4990-8b2e-6c558c6423c0"
      },
      "execution_count": null,
      "outputs": [
        {
          "output_type": "stream",
          "name": "stdout",
          "text": [
            "Epoch 1/10\n",
            "1875/1875 [==============================] - 110s 59ms/step - loss: 0.3896 - accuracy: 0.8596 - val_loss: 0.2954 - val_accuracy: 0.8894\n",
            "Epoch 2/10\n",
            "1875/1875 [==============================] - 106s 56ms/step - loss: 0.2529 - accuracy: 0.9077 - val_loss: 0.2551 - val_accuracy: 0.9045\n",
            "Epoch 3/10\n",
            "1875/1875 [==============================] - 106s 57ms/step - loss: 0.2032 - accuracy: 0.9236 - val_loss: 0.2342 - val_accuracy: 0.9150\n",
            "Epoch 4/10\n",
            "1875/1875 [==============================] - 105s 56ms/step - loss: 0.1680 - accuracy: 0.9365 - val_loss: 0.2480 - val_accuracy: 0.9122\n",
            "Epoch 5/10\n",
            "1875/1875 [==============================] - 106s 56ms/step - loss: 0.1429 - accuracy: 0.9458 - val_loss: 0.2231 - val_accuracy: 0.9237\n"
          ]
        },
        {
          "output_type": "execute_result",
          "data": {
            "text/plain": [
              "<keras.callbacks.History at 0x7fda9df73490>"
            ]
          },
          "metadata": {},
          "execution_count": 34
        }
      ]
    },
    {
      "cell_type": "code",
      "source": [
        "model.evaluate(X_test, y_test)"
      ],
      "metadata": {
        "colab": {
          "base_uri": "https://localhost:8080/"
        },
        "id": "1X9CZAOW2thI",
        "outputId": "0103b847-bae8-41c8-931e-f123319c1afa"
      },
      "execution_count": null,
      "outputs": [
        {
          "output_type": "stream",
          "name": "stdout",
          "text": [
            "313/313 [==============================] - 4s 13ms/step - loss: 0.2231 - accuracy: 0.9237\n"
          ]
        },
        {
          "output_type": "execute_result",
          "data": {
            "text/plain": [
              "[0.22309955954551697, 0.9236999750137329]"
            ]
          },
          "metadata": {},
          "execution_count": 35
        }
      ]
    },
    {
      "cell_type": "code",
      "source": [
        "import matplotlib.pyplot as plt\n",
        "%matplotlib inline\n",
        "plt.imshow(X_test[100].reshape(28, 28), cmap='gray')\n",
        "y_pred = model.predict(X_test[100].reshape(1, 28, 28, 1))\n",
        "print(\"Predicted label:\", y_pred.argmax())\n",
        "print(\"Softmax Outputs:\", y_pred)\n",
        "print(y_pred.sum())"
      ],
      "metadata": {
        "colab": {
          "base_uri": "https://localhost:8080/",
          "height": 339
        },
        "id": "eLY6hRKk25lZ",
        "outputId": "9ee47d7b-0cdd-453a-ed8c-d29b2609ab11"
      },
      "execution_count": null,
      "outputs": [
        {
          "output_type": "stream",
          "name": "stdout",
          "text": [
            "Predicted label: 3\n",
            "Softmax Outputs: [[1.3658898e-06 2.7958603e-07 1.4669111e-08 9.9998617e-01 3.6196687e-07\n",
            "  6.7100196e-08 8.3623108e-06 8.5853313e-10 3.2887019e-06 4.4100394e-09]]\n",
            "0.99999994\n"
          ]
        },
        {
          "output_type": "display_data",
          "data": {
            "text/plain": [
              "<Figure size 432x288 with 1 Axes>"
            ],
            "image/png": "[encoded data removed]"
          },
          "metadata": {
            "needs_background": "light"
          }
        }
      ]
    },
    {
      "cell_type": "code",
      "source": [
        "import matplotlib.pyplot as plt\n",
        "%matplotlib inline\n",
        "plt.imshow(X_test[200].reshape(28, 28), cmap='gray')\n",
        "y_pred = model.predict(X_test[200].reshape(1, 28, 28, 1))\n",
        "print(\"Predicted label:\", y_pred.argmax())\n",
        "print(\"Softmax Outputs:\", y_pred)\n",
        "print(y_pred.sum())"
      ],
      "metadata": {
        "id": "RJkzuhyh3Clg",
        "outputId": "09e8b8ef-5784-4fc3-d3ba-884c59d847ab",
        "colab": {
          "base_uri": "https://localhost:8080/",
          "height": 339
        }
      },
      "execution_count": null,
      "outputs": [
        {
          "output_type": "stream",
          "name": "stdout",
          "text": [
            "Predicted label: 1\n",
            "Softmax Outputs: [[3.4267831e-09 1.0000000e+00 4.5381932e-12 8.8522556e-10 1.0178012e-08\n",
            "  6.4071022e-14 7.8849427e-11 2.7345808e-14 3.4283076e-12 5.5416869e-12]]\n",
            "1.0\n"
          ]
        },
        {
          "output_type": "display_data",
          "data": {
            "text/plain": [
              "<Figure size 432x288 with 1 Axes>"
            ],
            "image/png": "[encoded data removed]"
          },
          "metadata": {
            "needs_background": "light"
          }
        }
      ]
    },
    {
      "cell_type": "markdown",
      "metadata": {
        "id": "GJiM6a8s-Vvb"
      },
      "source": [
        "### Step 8: Model pickling"
      ]
    },
    {
      "cell_type": "code",
      "execution_count": null,
      "metadata": {
        "id": "zqjjKGYz-Vvc"
      },
      "outputs": [],
      "source": []
    },
    {
      "cell_type": "markdown",
      "metadata": {
        "id": "dUTJtgCL-Vvc"
      },
      "source": [
        "### Step 9: Model deployment  ( Web or UI )"
      ]
    },
    {
      "cell_type": "code",
      "execution_count": null,
      "metadata": {
        "id": "_oajY9jn-Vvc"
      },
      "outputs": [],
      "source": []
    },
    {
      "cell_type": "markdown",
      "metadata": {
        "id": "UkC2KoWf-Vvd"
      },
      "source": [
        "### Step 10: Conclusion"
      ]
    },
    {
      "cell_type": "code",
      "execution_count": null,
      "metadata": {
        "id": "doEwFxcu-Vvd"
      },
      "outputs": [],
      "source": []
    },
    {
      "cell_type": "markdown",
      "metadata": {
        "id": "erC_IVnf-Vvd"
      },
      "source": [
        "     ©Great Learning. Proprietary content. All Rights Reserved. Unauthorised use or distribution prohibited"
      ]
    }
  ],
  "metadata": {
    "kernelspec": {
      "display_name": "Python 3",
      "language": "python",
      "name": "python3"
    },
    "language_info": {
      "codemirror_mode": {
        "name": "ipython",
        "version": 3
      },
      "file_extension": ".py",
      "mimetype": "text/x-python",
      "name": "python",
      "nbconvert_exporter": "python",
      "pygments_lexer": "ipython3",
      "version": "3.7.7"
    },
    "colab": {
      "provenance": [],
      "include_colab_link": true
    }
  },
  "nbformat": 4,
  "nbformat_minor": 0
}