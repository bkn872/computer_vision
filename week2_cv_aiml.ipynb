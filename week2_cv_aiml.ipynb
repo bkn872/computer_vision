{
  "nbformat": 4,
  "nbformat_minor": 0,
  "metadata": {
    "colab": {
      "provenance": [],
      "collapsed_sections": [],
      "toc_visible": true,
      "include_colab_link": true
    },
    "kernelspec": {
      "name": "python3",
      "display_name": "Python 3"
    },
    "accelerator": "GPU"
  },
  "cells": [
    {
      "cell_type": "markdown",
      "metadata": {
        "id": "view-in-github",
        "colab_type": "text"
      },
      "source": [
        "<a href=\"https://colab.research.google.com/github/bkn872/computer_vision/blob/main/week2_cv_aiml.ipynb\" target=\"_parent\"><img src=\"https://colab.research.google.com/assets/colab-badge.svg\" alt=\"Open In Colab\"/></a>"
      ]
    },
    {
      "cell_type": "markdown",
      "metadata": {
        "id": "yE7aUFLjVIVD"
      },
      "source": [
        "# Dog breed classification"
      ]
    },
    {
      "cell_type": "markdown",
      "metadata": {
        "id": "cRopcu8YVTdq"
      },
      "source": [
        "### Mount google drive"
      ]
    },
    {
      "cell_type": "code",
      "metadata": {
        "id": "fVhB9OopxFbX",
        "outputId": "b8686417-4ccd-42da-aa91-ebc2a360674b",
        "colab": {
          "base_uri": "https://localhost:8080/"
        }
      },
      "source": [
        "from google.colab import drive\n",
        "drive.mount('/content/drive/')"
      ],
      "execution_count": 1,
      "outputs": [
        {
          "output_type": "stream",
          "name": "stdout",
          "text": [
            "Mounted at /content/drive/\n"
          ]
        }
      ]
    },
    {
      "cell_type": "markdown",
      "metadata": {
        "id": "zhb9sfJ7Vfzj"
      },
      "source": [
        "### Give project path"
      ]
    },
    {
      "cell_type": "code",
      "metadata": {
        "id": "Tp6FvAToxUFs"
      },
      "source": [
        "project_path = \"/content/drive/My Drive/W2_Mentor/\""
      ],
      "execution_count": 2,
      "outputs": []
    },
    {
      "cell_type": "markdown",
      "metadata": {
        "id": "7ODbHSmaVrFf"
      },
      "source": [
        "### Extract train.zip file"
      ]
    },
    {
      "cell_type": "code",
      "metadata": {
        "id": "3350WZM4w4EL"
      },
      "source": [
        "from zipfile import ZipFile\n",
        "with ZipFile(project_path+'train.zip', 'r') as z:\n",
        "  z.extractall()"
      ],
      "execution_count": null,
      "outputs": []
    },
    {
      "cell_type": "markdown",
      "metadata": {
        "id": "M3HC1m7RVxAN"
      },
      "source": [
        "### Extract test.zip file"
      ]
    },
    {
      "cell_type": "code",
      "metadata": {
        "id": "_fxzynvB2YCb"
      },
      "source": [
        "from zipfile import ZipFile\n",
        "with ZipFile(project_path+'test.zip', 'r') as z:\n",
        "  z.extractall()"
      ],
      "execution_count": null,
      "outputs": []
    },
    {
      "cell_type": "markdown",
      "metadata": {
        "id": "hO7cTQhqV4jP"
      },
      "source": [
        "### Extract sample_submission.csv.zip file"
      ]
    },
    {
      "cell_type": "code",
      "metadata": {
        "id": "4PyTxE8q2jLf"
      },
      "source": [
        "from zipfile import ZipFile\n",
        "with ZipFile(project_path+'sample_submission.csv.zip', 'r') as z:\n",
        "  z.extractall()"
      ],
      "execution_count": null,
      "outputs": []
    },
    {
      "cell_type": "markdown",
      "metadata": {
        "id": "hgx2iXUhV9cY"
      },
      "source": [
        "### Extract labels.csv.zip file"
      ]
    },
    {
      "cell_type": "code",
      "metadata": {
        "id": "rXtnEoEixbgi"
      },
      "source": [
        "from zipfile import ZipFile\n",
        "with ZipFile(project_path+'labels.csv.zip', 'r') as z:\n",
        "  z.extractall()"
      ],
      "execution_count": null,
      "outputs": []
    },
    {
      "cell_type": "markdown",
      "metadata": {
        "id": "NzeWG7eDWE8U"
      },
      "source": [
        "### Import pandas"
      ]
    },
    {
      "cell_type": "code",
      "metadata": {
        "id": "ETfcfkZYxpvu"
      },
      "source": [
        "import pandas as pd"
      ],
      "execution_count": null,
      "outputs": []
    },
    {
      "cell_type": "markdown",
      "metadata": {
        "id": "WqVju9TCWHIs"
      },
      "source": [
        "### Read labels.csv file"
      ]
    },
    {
      "cell_type": "code",
      "metadata": {
        "id": "oLzkBLBRxzoY",
        "outputId": "3aafe2ae-8d08-4a14-8fd0-323e4aaae2dc",
        "colab": {
          "base_uri": "https://localhost:8080/",
          "height": 195
        }
      },
      "source": [
        "labels = pd.read_csv('./labels.csv')\n",
        "labels.head()"
      ],
      "execution_count": null,
      "outputs": [
        {
          "output_type": "execute_result",
          "data": {
            "text/html": [
              "<div>\n",
              "<style scoped>\n",
              "    .dataframe tbody tr th:only-of-type {\n",
              "        vertical-align: middle;\n",
              "    }\n",
              "\n",
              "    .dataframe tbody tr th {\n",
              "        vertical-align: top;\n",
              "    }\n",
              "\n",
              "    .dataframe thead th {\n",
              "        text-align: right;\n",
              "    }\n",
              "</style>\n",
              "<table border=\"1\" class=\"dataframe\">\n",
              "  <thead>\n",
              "    <tr style=\"text-align: right;\">\n",
              "      <th></th>\n",
              "      <th>id</th>\n",
              "      <th>breed</th>\n",
              "    </tr>\n",
              "  </thead>\n",
              "  <tbody>\n",
              "    <tr>\n",
              "      <th>0</th>\n",
              "      <td>000bec180eb18c7604dcecc8fe0dba07</td>\n",
              "      <td>boston_bull</td>\n",
              "    </tr>\n",
              "    <tr>\n",
              "      <th>1</th>\n",
              "      <td>001513dfcb2ffafc82cccf4d8bbaba97</td>\n",
              "      <td>dingo</td>\n",
              "    </tr>\n",
              "    <tr>\n",
              "      <th>2</th>\n",
              "      <td>001cdf01b096e06d78e9e5112d419397</td>\n",
              "      <td>pekinese</td>\n",
              "    </tr>\n",
              "    <tr>\n",
              "      <th>3</th>\n",
              "      <td>00214f311d5d2247d5dfe4fe24b2303d</td>\n",
              "      <td>bluetick</td>\n",
              "    </tr>\n",
              "    <tr>\n",
              "      <th>4</th>\n",
              "      <td>0021f9ceb3235effd7fcde7f7538ed62</td>\n",
              "      <td>golden_retriever</td>\n",
              "    </tr>\n",
              "  </tbody>\n",
              "</table>\n",
              "</div>"
            ],
            "text/plain": [
              "                                 id             breed\n",
              "0  000bec180eb18c7604dcecc8fe0dba07       boston_bull\n",
              "1  001513dfcb2ffafc82cccf4d8bbaba97             dingo\n",
              "2  001cdf01b096e06d78e9e5112d419397          pekinese\n",
              "3  00214f311d5d2247d5dfe4fe24b2303d          bluetick\n",
              "4  0021f9ceb3235effd7fcde7f7538ed62  golden_retriever"
            ]
          },
          "metadata": {
            "tags": []
          },
          "execution_count": 7
        }
      ]
    },
    {
      "cell_type": "markdown",
      "metadata": {
        "id": "DqX7ZthIWR4o"
      },
      "source": [
        "### Get breed counts"
      ]
    },
    {
      "cell_type": "code",
      "metadata": {
        "id": "tfpoZCF4x5Fs",
        "outputId": "330226f0-1ce1-4c6a-afe2-d01311719afd",
        "colab": {
          "base_uri": "https://localhost:8080/",
          "height": 118
        }
      },
      "source": [
        "breed_count = labels['breed'].value_counts()\n",
        "breed_count.head()"
      ],
      "execution_count": null,
      "outputs": [
        {
          "output_type": "execute_result",
          "data": {
            "text/plain": [
              "scottish_deerhound      126\n",
              "maltese_dog             117\n",
              "afghan_hound            116\n",
              "entlebucher             115\n",
              "bernese_mountain_dog    114\n",
              "Name: breed, dtype: int64"
            ]
          },
          "metadata": {
            "tags": []
          },
          "execution_count": 8
        }
      ]
    },
    {
      "cell_type": "markdown",
      "metadata": {
        "id": "WI94_Qcc0D4M"
      },
      "source": [
        "## One-hot encodings of labels"
      ]
    },
    {
      "cell_type": "markdown",
      "metadata": {
        "id": "qfADtpeoWe1_"
      },
      "source": [
        "### Import numpy and encode labels['breed'] column"
      ]
    },
    {
      "cell_type": "code",
      "metadata": {
        "id": "LanB7TMnznOw"
      },
      "source": [
        "import numpy as np\n",
        "targets = pd.Series(labels['breed'])\n",
        "one_hot = pd.get_dummies(targets, sparse = True)\n",
        "one_hot_labels = np.asarray(one_hot)"
      ],
      "execution_count": null,
      "outputs": []
    },
    {
      "cell_type": "code",
      "metadata": {
        "id": "6-Tw_KK40M9I",
        "outputId": "9710afab-f8b2-4985-ef81-231873972da8",
        "colab": {
          "base_uri": "https://localhost:8080/",
          "height": 118
        }
      },
      "source": [
        "one_hot_labels[0]"
      ],
      "execution_count": null,
      "outputs": [
        {
          "output_type": "execute_result",
          "data": {
            "text/plain": [
              "array([0, 0, 0, 0, 0, 0, 0, 0, 0, 0, 0, 0, 0, 0, 0, 0, 0, 0, 0, 1, 0, 0,\n",
              "       0, 0, 0, 0, 0, 0, 0, 0, 0, 0, 0, 0, 0, 0, 0, 0, 0, 0, 0, 0, 0, 0,\n",
              "       0, 0, 0, 0, 0, 0, 0, 0, 0, 0, 0, 0, 0, 0, 0, 0, 0, 0, 0, 0, 0, 0,\n",
              "       0, 0, 0, 0, 0, 0, 0, 0, 0, 0, 0, 0, 0, 0, 0, 0, 0, 0, 0, 0, 0, 0,\n",
              "       0, 0, 0, 0, 0, 0, 0, 0, 0, 0, 0, 0, 0, 0, 0, 0, 0, 0, 0, 0, 0, 0,\n",
              "       0, 0, 0, 0, 0, 0, 0, 0, 0, 0], dtype=uint8)"
            ]
          },
          "metadata": {
            "tags": []
          },
          "execution_count": 10
        }
      ]
    },
    {
      "cell_type": "markdown",
      "metadata": {
        "id": "QhrSwtz90HPt"
      },
      "source": [
        "### You can also use label encoding if you want"
      ]
    },
    {
      "cell_type": "code",
      "metadata": {
        "id": "dUfdUJA5yJ8K",
        "outputId": "f3032d81-83f1-4464-d29f-04ae37a560c7",
        "colab": {
          "base_uri": "https://localhost:8080/",
          "height": 34
        }
      },
      "source": [
        "from sklearn.preprocessing import LabelEncoder\n",
        "label_encoder = LabelEncoder()\n",
        "integer_encoded = label_encoder.fit_transform(labels['breed'])\n",
        "print(integer_encoded)"
      ],
      "execution_count": null,
      "outputs": [
        {
          "output_type": "stream",
          "text": [
            "[19 37 85 ...  3 75 28]\n"
          ],
          "name": "stdout"
        }
      ]
    },
    {
      "cell_type": "markdown",
      "metadata": {
        "id": "LqRdlbsMW_0v"
      },
      "source": [
        "### Use keras.utils.to_categorical function"
      ]
    },
    {
      "cell_type": "code",
      "metadata": {
        "id": "xgbx0KGnycKM",
        "outputId": "7312e125-2c6b-46d4-fba7-24ebdacc76e2",
        "colab": {
          "base_uri": "https://localhost:8080/",
          "height": 79
        }
      },
      "source": [
        "import keras\n",
        "y = keras.utils.to_categorical(integer_encoded, num_classes=None, dtype='int')"
      ],
      "execution_count": null,
      "outputs": [
        {
          "output_type": "stream",
          "text": [
            "Using TensorFlow backend.\n"
          ],
          "name": "stderr"
        },
        {
          "output_type": "display_data",
          "data": {
            "text/html": [
              "<p style=\"color: red;\">\n",
              "The default version of TensorFlow in Colab will soon switch to TensorFlow 2.x.<br>\n",
              "We recommend you <a href=\"https://www.tensorflow.org/guide/migrate\" target=\"_blank\">upgrade</a> now \n",
              "or ensure your notebook will continue to use TensorFlow 1.x via the <code>%tensorflow_version 1.x</code> magic:\n",
              "<a href=\"https://colab.research.google.com/notebooks/tensorflow_version.ipynb\" target=\"_blank\">more info</a>.</p>\n"
            ],
            "text/plain": [
              "<IPython.core.display.HTML object>"
            ]
          },
          "metadata": {
            "tags": []
          }
        }
      ]
    },
    {
      "cell_type": "code",
      "metadata": {
        "id": "7T97tdzLy6As",
        "outputId": "1c430337-bc1f-415a-a5f1-ffbd3566e61b",
        "colab": {
          "base_uri": "https://localhost:8080/",
          "height": 118
        }
      },
      "source": [
        "y[0]"
      ],
      "execution_count": null,
      "outputs": [
        {
          "output_type": "execute_result",
          "data": {
            "text/plain": [
              "array([0, 0, 0, 0, 0, 0, 0, 0, 0, 0, 0, 0, 0, 0, 0, 0, 0, 0, 0, 1, 0, 0,\n",
              "       0, 0, 0, 0, 0, 0, 0, 0, 0, 0, 0, 0, 0, 0, 0, 0, 0, 0, 0, 0, 0, 0,\n",
              "       0, 0, 0, 0, 0, 0, 0, 0, 0, 0, 0, 0, 0, 0, 0, 0, 0, 0, 0, 0, 0, 0,\n",
              "       0, 0, 0, 0, 0, 0, 0, 0, 0, 0, 0, 0, 0, 0, 0, 0, 0, 0, 0, 0, 0, 0,\n",
              "       0, 0, 0, 0, 0, 0, 0, 0, 0, 0, 0, 0, 0, 0, 0, 0, 0, 0, 0, 0, 0, 0,\n",
              "       0, 0, 0, 0, 0, 0, 0, 0, 0, 0])"
            ]
          },
          "metadata": {
            "tags": []
          },
          "execution_count": 13
        }
      ]
    },
    {
      "cell_type": "markdown",
      "metadata": {
        "id": "OTUNSjfMXeIU"
      },
      "source": [
        "### Define img_rows, img_cols, and num_channel variables"
      ]
    },
    {
      "cell_type": "code",
      "metadata": {
        "id": "fIdzAwGOz-7w"
      },
      "source": [
        "img_rows=128\n",
        "img_cols=128\n",
        "num_channel=1"
      ],
      "execution_count": null,
      "outputs": []
    },
    {
      "cell_type": "markdown",
      "metadata": {
        "id": "aEAMG86dYTHm"
      },
      "source": [
        "### Get features"
      ]
    },
    {
      "cell_type": "code",
      "metadata": {
        "id": "aC2f9ecR0XGR",
        "outputId": "20c1c33e-86da-4a68-91da-052c2b883e59",
        "colab": {
          "base_uri": "https://localhost:8080/",
          "height": 34
        }
      },
      "source": [
        "from tqdm import tqdm\n",
        "import cv2\n",
        "x_feature = []\n",
        "y_feature = []\n",
        "\n",
        "i = 0 # initialisation\n",
        "for f, img in tqdm(labels.values): # f for format ,jpg\n",
        "    train_img = cv2.imread('./train/{}.jpg'.format(f),0)\n",
        "    label = one_hot_labels[i]\n",
        "    train_img_resize = cv2.resize(train_img, (img_rows, img_cols)) \n",
        "    x_feature.append(train_img_resize)\n",
        "    y_feature.append(label)\n",
        "    i += 1"
      ],
      "execution_count": null,
      "outputs": [
        {
          "output_type": "stream",
          "text": [
            "100%|██████████| 10222/10222 [00:13<00:00, 781.85it/s]\n"
          ],
          "name": "stderr"
        }
      ]
    },
    {
      "cell_type": "markdown",
      "metadata": {
        "id": "4hcYOnv7YnnP"
      },
      "source": [
        "### Normalize values"
      ]
    },
    {
      "cell_type": "code",
      "metadata": {
        "id": "nkkZEpOe0ipk",
        "outputId": "183c7e18-b331-400a-8b84-bec153b0e076",
        "colab": {
          "base_uri": "https://localhost:8080/",
          "height": 50
        }
      },
      "source": [
        "x_train_data = np.array(x_feature, np.float32) / 255.   # /= 255 for normalisation\n",
        "print (x_train_data.shape)\n",
        "x_train_data = np.expand_dims(x_train_data, axis = 3) # for keras to given input to Conv2D layer\n",
        "print (x_train_data.shape)"
      ],
      "execution_count": null,
      "outputs": [
        {
          "output_type": "stream",
          "text": [
            "(10222, 128, 128)\n",
            "(10222, 128, 128, 1)\n"
          ],
          "name": "stdout"
        }
      ]
    },
    {
      "cell_type": "code",
      "metadata": {
        "id": "ARn76j3U1CDa",
        "outputId": "3287b75b-f429-48e0-b1a0-f62f81a8d4c8",
        "colab": {
          "base_uri": "https://localhost:8080/",
          "height": 34
        }
      },
      "source": [
        "y_train_data = np.array(y_feature)\n",
        "y_train_data.shape"
      ],
      "execution_count": null,
      "outputs": [
        {
          "output_type": "execute_result",
          "data": {
            "text/plain": [
              "(10222, 120)"
            ]
          },
          "metadata": {
            "tags": []
          },
          "execution_count": 17
        }
      ]
    },
    {
      "cell_type": "markdown",
      "metadata": {
        "id": "bdCXuAE11gZL"
      },
      "source": [
        "### Split the training and validation data here"
      ]
    },
    {
      "cell_type": "code",
      "metadata": {
        "id": "VON2B0zH1PKB",
        "outputId": "5c4016c4-46e4-48c5-f0ab-8795a07dd683",
        "colab": {
          "base_uri": "https://localhost:8080/",
          "height": 50
        }
      },
      "source": [
        "from sklearn.model_selection import train_test_split\n",
        "x_train, x_val, y_train, y_val = train_test_split(x_train_data, y_train_data, test_size=0.2, random_state=2)\n",
        "print (x_train.shape)\n",
        "print (x_val.shape)"
      ],
      "execution_count": null,
      "outputs": [
        {
          "output_type": "stream",
          "text": [
            "(8177, 128, 128, 1)\n",
            "(2045, 128, 128, 1)\n"
          ],
          "name": "stdout"
        }
      ]
    },
    {
      "cell_type": "markdown",
      "metadata": {
        "id": "byftFyuOY17Q"
      },
      "source": [
        "## Import keras and the required layers and model"
      ]
    },
    {
      "cell_type": "code",
      "metadata": {
        "id": "6m9GCXc24wAi"
      },
      "source": [
        "# import tensorflow as tf\n",
        "\n",
        "from keras.models import Sequential  # initial NN\n",
        "from keras.layers import Dense, Dropout # construct each layer\n",
        "from keras.layers import Conv2D # swipe across the image by 1\n",
        "from keras.layers import MaxPooling2D # swipe across by pool size\n",
        "from keras.layers import Flatten, GlobalAveragePooling2D"
      ],
      "execution_count": null,
      "outputs": []
    },
    {
      "cell_type": "markdown",
      "metadata": {
        "id": "xjgJP5w2Y8RN"
      },
      "source": [
        "### Define model and add layers"
      ]
    },
    {
      "cell_type": "code",
      "metadata": {
        "id": "46NNwEGV41JH",
        "colab": {
          "base_uri": "https://localhost:8080/",
          "height": 255
        },
        "outputId": "f76ecf9c-357e-408b-b314-73b9114e0fe6"
      },
      "source": [
        "model = Sequential()\n",
        "\n",
        "model.add(Conv2D(32, (5,5), activation ='relu', input_shape = (img_rows, img_cols, num_channel))) \n",
        "model.add(MaxPooling2D(pool_size=3))\n",
        "#model.add(Dropout(0.2))\n",
        "\n",
        "model.add(Conv2D(filters=64, kernel_size=4, padding='same', activation='relu'))\n",
        "model.add(MaxPooling2D(pool_size=2))\n",
        "#model.add(Dropout(0.2))\n",
        "\n",
        "model.add(Conv2D(filters=128, kernel_size=3, padding='same', activation='relu'))\n",
        "model.add(MaxPooling2D(pool_size=2))\n",
        "model.add(Dropout(0.2))\n",
        "\n",
        "model.add(Conv2D(filters=128, kernel_size=2, padding='same', activation='relu'))\n",
        "model.add(MaxPooling2D(pool_size=2))\n",
        "model.add(Dropout(0.2))\n",
        "\n",
        "model.add(Flatten()) \n",
        "# fully connected layer \n",
        "model.add(Dense(units = 500, activation = 'relu')) \n",
        "model.add(Dropout(0.2))\n",
        "# output layer\n",
        "model.add(Dense(units = 120, activation = 'softmax')) "
      ],
      "execution_count": null,
      "outputs": [
        {
          "output_type": "stream",
          "text": [
            "WARNING:tensorflow:From /usr/local/lib/python3.6/dist-packages/keras/backend/tensorflow_backend.py:66: The name tf.get_default_graph is deprecated. Please use tf.compat.v1.get_default_graph instead.\n",
            "\n",
            "WARNING:tensorflow:From /usr/local/lib/python3.6/dist-packages/keras/backend/tensorflow_backend.py:541: The name tf.placeholder is deprecated. Please use tf.compat.v1.placeholder instead.\n",
            "\n",
            "WARNING:tensorflow:From /usr/local/lib/python3.6/dist-packages/keras/backend/tensorflow_backend.py:4432: The name tf.random_uniform is deprecated. Please use tf.random.uniform instead.\n",
            "\n",
            "WARNING:tensorflow:From /usr/local/lib/python3.6/dist-packages/keras/backend/tensorflow_backend.py:4267: The name tf.nn.max_pool is deprecated. Please use tf.nn.max_pool2d instead.\n",
            "\n",
            "WARNING:tensorflow:From /usr/local/lib/python3.6/dist-packages/keras/backend/tensorflow_backend.py:148: The name tf.placeholder_with_default is deprecated. Please use tf.compat.v1.placeholder_with_default instead.\n",
            "\n",
            "WARNING:tensorflow:From /usr/local/lib/python3.6/dist-packages/keras/backend/tensorflow_backend.py:3733: calling dropout (from tensorflow.python.ops.nn_ops) with keep_prob is deprecated and will be removed in a future version.\n",
            "Instructions for updating:\n",
            "Please use `rate` instead of `keep_prob`. Rate should be set to `rate = 1 - keep_prob`.\n"
          ],
          "name": "stdout"
        }
      ]
    },
    {
      "cell_type": "markdown",
      "metadata": {
        "id": "D5e6_NR8Y_9I"
      },
      "source": [
        "### Compile and summarize the model"
      ]
    },
    {
      "cell_type": "code",
      "metadata": {
        "id": "2xNu2S285HH5",
        "outputId": "21ed7366-745c-45df-f679-9c35beb163c4",
        "colab": {
          "base_uri": "https://localhost:8080/",
          "height": 709
        }
      },
      "source": [
        "from keras.optimizers import Adam\n",
        "\n",
        "optimizer = Adam(lr=0.01)\n",
        "model.compile(optimizer = optimizer , loss = \"categorical_crossentropy\", metrics=[\"accuracy\"]) \n",
        "model.summary()"
      ],
      "execution_count": null,
      "outputs": [
        {
          "output_type": "stream",
          "text": [
            "WARNING:tensorflow:From /usr/local/lib/python3.6/dist-packages/keras/optimizers.py:793: The name tf.train.Optimizer is deprecated. Please use tf.compat.v1.train.Optimizer instead.\n",
            "\n",
            "WARNING:tensorflow:From /usr/local/lib/python3.6/dist-packages/keras/backend/tensorflow_backend.py:3576: The name tf.log is deprecated. Please use tf.math.log instead.\n",
            "\n",
            "Model: \"sequential_1\"\n",
            "_________________________________________________________________\n",
            "Layer (type)                 Output Shape              Param #   \n",
            "=================================================================\n",
            "conv2d_1 (Conv2D)            (None, 124, 124, 32)      832       \n",
            "_________________________________________________________________\n",
            "max_pooling2d_1 (MaxPooling2 (None, 41, 41, 32)        0         \n",
            "_________________________________________________________________\n",
            "conv2d_2 (Conv2D)            (None, 41, 41, 64)        32832     \n",
            "_________________________________________________________________\n",
            "max_pooling2d_2 (MaxPooling2 (None, 20, 20, 64)        0         \n",
            "_________________________________________________________________\n",
            "conv2d_3 (Conv2D)            (None, 20, 20, 128)       73856     \n",
            "_________________________________________________________________\n",
            "max_pooling2d_3 (MaxPooling2 (None, 10, 10, 128)       0         \n",
            "_________________________________________________________________\n",
            "dropout_1 (Dropout)          (None, 10, 10, 128)       0         \n",
            "_________________________________________________________________\n",
            "conv2d_4 (Conv2D)            (None, 10, 10, 128)       65664     \n",
            "_________________________________________________________________\n",
            "max_pooling2d_4 (MaxPooling2 (None, 5, 5, 128)         0         \n",
            "_________________________________________________________________\n",
            "dropout_2 (Dropout)          (None, 5, 5, 128)         0         \n",
            "_________________________________________________________________\n",
            "flatten_1 (Flatten)          (None, 3200)              0         \n",
            "_________________________________________________________________\n",
            "dense_1 (Dense)              (None, 500)               1600500   \n",
            "_________________________________________________________________\n",
            "dropout_3 (Dropout)          (None, 500)               0         \n",
            "_________________________________________________________________\n",
            "dense_2 (Dense)              (None, 120)               60120     \n",
            "=================================================================\n",
            "Total params: 1,833,804\n",
            "Trainable params: 1,833,804\n",
            "Non-trainable params: 0\n",
            "_________________________________________________________________\n"
          ],
          "name": "stdout"
        }
      ]
    },
    {
      "cell_type": "markdown",
      "metadata": {
        "id": "63vZnpJ8ZFuL"
      },
      "source": [
        "### Define hyperparametrs and fit the model"
      ]
    },
    {
      "cell_type": "code",
      "metadata": {
        "id": "EjfBmzcE5JTc",
        "outputId": "a6f9827d-4939-4236-efac-af321faca9b3",
        "colab": {
          "base_uri": "https://localhost:8080/",
          "height": 1000
        }
      },
      "source": [
        "batch_size = 128\n",
        "nb_epochs = 20\n",
        "history = model.fit(x_train, y_train,\n",
        "                    batch_size=batch_size,\n",
        "                    epochs=nb_epochs, \n",
        "                    validation_data=(x_val, y_val),\n",
        "                    initial_epoch=0)"
      ],
      "execution_count": null,
      "outputs": [
        {
          "output_type": "stream",
          "text": [
            "WARNING:tensorflow:From /usr/local/lib/python3.6/dist-packages/tensorflow_core/python/ops/math_grad.py:1424: where (from tensorflow.python.ops.array_ops) is deprecated and will be removed in a future version.\n",
            "Instructions for updating:\n",
            "Use tf.where in 2.0, which has the same broadcast rule as np.where\n",
            "WARNING:tensorflow:From /usr/local/lib/python3.6/dist-packages/keras/backend/tensorflow_backend.py:1033: The name tf.assign_add is deprecated. Please use tf.compat.v1.assign_add instead.\n",
            "\n",
            "WARNING:tensorflow:From /usr/local/lib/python3.6/dist-packages/keras/backend/tensorflow_backend.py:1020: The name tf.assign is deprecated. Please use tf.compat.v1.assign instead.\n",
            "\n",
            "WARNING:tensorflow:From /usr/local/lib/python3.6/dist-packages/keras/backend/tensorflow_backend.py:3005: The name tf.Session is deprecated. Please use tf.compat.v1.Session instead.\n",
            "\n",
            "Train on 8177 samples, validate on 2045 samples\n",
            "Epoch 1/20\n",
            "WARNING:tensorflow:From /usr/local/lib/python3.6/dist-packages/keras/backend/tensorflow_backend.py:190: The name tf.get_default_session is deprecated. Please use tf.compat.v1.get_default_session instead.\n",
            "\n",
            "WARNING:tensorflow:From /usr/local/lib/python3.6/dist-packages/keras/backend/tensorflow_backend.py:197: The name tf.ConfigProto is deprecated. Please use tf.compat.v1.ConfigProto instead.\n",
            "\n",
            "WARNING:tensorflow:From /usr/local/lib/python3.6/dist-packages/keras/backend/tensorflow_backend.py:207: The name tf.global_variables is deprecated. Please use tf.compat.v1.global_variables instead.\n",
            "\n",
            "WARNING:tensorflow:From /usr/local/lib/python3.6/dist-packages/keras/backend/tensorflow_backend.py:216: The name tf.is_variable_initialized is deprecated. Please use tf.compat.v1.is_variable_initialized instead.\n",
            "\n",
            "WARNING:tensorflow:From /usr/local/lib/python3.6/dist-packages/keras/backend/tensorflow_backend.py:223: The name tf.variables_initializer is deprecated. Please use tf.compat.v1.variables_initializer instead.\n",
            "\n",
            "8177/8177 [==============================] - 20s 2ms/step - loss: 4.9037 - acc: 0.0092 - val_loss: 4.7870 - val_acc: 0.0078\n",
            "Epoch 2/20\n",
            "8177/8177 [==============================] - 5s 617us/step - loss: 4.7798 - acc: 0.0104 - val_loss: 4.7887 - val_acc: 0.0117\n",
            "Epoch 3/20\n",
            "8177/8177 [==============================] - 5s 619us/step - loss: 4.7786 - acc: 0.0125 - val_loss: 4.7909 - val_acc: 0.0117\n",
            "Epoch 4/20\n",
            "8177/8177 [==============================] - 5s 620us/step - loss: 4.7779 - acc: 0.0119 - val_loss: 4.7911 - val_acc: 0.0078\n",
            "Epoch 5/20\n",
            "8177/8177 [==============================] - 5s 624us/step - loss: 4.7768 - acc: 0.0097 - val_loss: 4.7918 - val_acc: 0.0117\n",
            "Epoch 6/20\n",
            "8177/8177 [==============================] - 5s 617us/step - loss: 4.7771 - acc: 0.0125 - val_loss: 4.7930 - val_acc: 0.0117\n",
            "Epoch 7/20\n",
            "8177/8177 [==============================] - 5s 618us/step - loss: 4.7769 - acc: 0.0125 - val_loss: 4.7935 - val_acc: 0.0117\n",
            "Epoch 8/20\n",
            "8177/8177 [==============================] - 5s 618us/step - loss: 4.7770 - acc: 0.0106 - val_loss: 4.7930 - val_acc: 0.0117\n",
            "Epoch 9/20\n",
            "8177/8177 [==============================] - 5s 618us/step - loss: 4.7771 - acc: 0.0106 - val_loss: 4.7940 - val_acc: 0.0117\n",
            "Epoch 10/20\n",
            "8177/8177 [==============================] - 5s 617us/step - loss: 4.7770 - acc: 0.0125 - val_loss: 4.7940 - val_acc: 0.0117\n",
            "Epoch 11/20\n",
            "8177/8177 [==============================] - 5s 620us/step - loss: 4.7770 - acc: 0.0125 - val_loss: 4.7929 - val_acc: 0.0117\n",
            "Epoch 12/20\n",
            "8177/8177 [==============================] - 5s 620us/step - loss: 4.7773 - acc: 0.0115 - val_loss: 4.7938 - val_acc: 0.0117\n",
            "Epoch 13/20\n",
            "8177/8177 [==============================] - 5s 619us/step - loss: 4.7770 - acc: 0.0125 - val_loss: 4.7933 - val_acc: 0.0117\n",
            "Epoch 14/20\n",
            "8177/8177 [==============================] - 5s 619us/step - loss: 4.7768 - acc: 0.0111 - val_loss: 4.7936 - val_acc: 0.0117\n",
            "Epoch 15/20\n",
            "8177/8177 [==============================] - 5s 618us/step - loss: 4.7771 - acc: 0.0125 - val_loss: 4.7937 - val_acc: 0.0117\n",
            "Epoch 16/20\n",
            "8177/8177 [==============================] - 5s 618us/step - loss: 4.7772 - acc: 0.0104 - val_loss: 4.7938 - val_acc: 0.0088\n",
            "Epoch 17/20\n",
            "8177/8177 [==============================] - 5s 614us/step - loss: 4.7769 - acc: 0.0122 - val_loss: 4.7935 - val_acc: 0.0117\n",
            "Epoch 18/20\n",
            "8177/8177 [==============================] - 5s 620us/step - loss: 4.7772 - acc: 0.0125 - val_loss: 4.7931 - val_acc: 0.0117\n",
            "Epoch 19/20\n",
            "8177/8177 [==============================] - 5s 617us/step - loss: 4.7771 - acc: 0.0119 - val_loss: 4.7935 - val_acc: 0.0088\n",
            "Epoch 20/20\n",
            "8177/8177 [==============================] - 5s 615us/step - loss: 4.7777 - acc: 0.0111 - val_loss: 4.7937 - val_acc: 0.0117\n"
          ],
          "name": "stdout"
        }
      ]
    },
    {
      "cell_type": "markdown",
      "metadata": {
        "id": "Uli0I4OSNrm3"
      },
      "source": [
        "## Using Transfer Learning\n",
        "\n",
        "Download the vgg wieght file from here : https://github.com/MinerKasch/applied_deep_learning/blob/master/vgg16_weights_tf_dim_ordering_tf_kernels_notop.h5"
      ]
    },
    {
      "cell_type": "code",
      "metadata": {
        "id": "IjK2hxZZM53F"
      },
      "source": [
        "from keras.applications.vgg16 import VGG16, preprocess_input\n",
        "\n",
        "# Instantiate the model with the pre-trained weights (no top)\n",
        "base_model= VGG16(weights=(project_path+'vgg16_weights_tf_dim_ordering_tf_kernels_notop.h5'),\n",
        "                 include_top=False, pooling='avg')"
      ],
      "execution_count": null,
      "outputs": []
    },
    {
      "cell_type": "code",
      "metadata": {
        "id": "pjhGmWwkmcRv",
        "colab": {
          "base_uri": "https://localhost:8080/",
          "height": 823
        },
        "outputId": "6f1b19ab-1846-4056-ceaa-97120ae1dfea"
      },
      "source": [
        "base_model.summary()"
      ],
      "execution_count": null,
      "outputs": [
        {
          "output_type": "stream",
          "text": [
            "Model: \"vgg16\"\n",
            "_________________________________________________________________\n",
            "Layer (type)                 Output Shape              Param #   \n",
            "=================================================================\n",
            "input_1 (InputLayer)         (None, None, None, 3)     0         \n",
            "_________________________________________________________________\n",
            "block1_conv1 (Conv2D)        (None, None, None, 64)    1792      \n",
            "_________________________________________________________________\n",
            "block1_conv2 (Conv2D)        (None, None, None, 64)    36928     \n",
            "_________________________________________________________________\n",
            "block1_pool (MaxPooling2D)   (None, None, None, 64)    0         \n",
            "_________________________________________________________________\n",
            "block2_conv1 (Conv2D)        (None, None, None, 128)   73856     \n",
            "_________________________________________________________________\n",
            "block2_conv2 (Conv2D)        (None, None, None, 128)   147584    \n",
            "_________________________________________________________________\n",
            "block2_pool (MaxPooling2D)   (None, None, None, 128)   0         \n",
            "_________________________________________________________________\n",
            "block3_conv1 (Conv2D)        (None, None, None, 256)   295168    \n",
            "_________________________________________________________________\n",
            "block3_conv2 (Conv2D)        (None, None, None, 256)   590080    \n",
            "_________________________________________________________________\n",
            "block3_conv3 (Conv2D)        (None, None, None, 256)   590080    \n",
            "_________________________________________________________________\n",
            "block3_pool (MaxPooling2D)   (None, None, None, 256)   0         \n",
            "_________________________________________________________________\n",
            "block4_conv1 (Conv2D)        (None, None, None, 512)   1180160   \n",
            "_________________________________________________________________\n",
            "block4_conv2 (Conv2D)        (None, None, None, 512)   2359808   \n",
            "_________________________________________________________________\n",
            "block4_conv3 (Conv2D)        (None, None, None, 512)   2359808   \n",
            "_________________________________________________________________\n",
            "block4_pool (MaxPooling2D)   (None, None, None, 512)   0         \n",
            "_________________________________________________________________\n",
            "block5_conv1 (Conv2D)        (None, None, None, 512)   2359808   \n",
            "_________________________________________________________________\n",
            "block5_conv2 (Conv2D)        (None, None, None, 512)   2359808   \n",
            "_________________________________________________________________\n",
            "block5_conv3 (Conv2D)        (None, None, None, 512)   2359808   \n",
            "_________________________________________________________________\n",
            "block5_pool (MaxPooling2D)   (None, None, None, 512)   0         \n",
            "_________________________________________________________________\n",
            "global_average_pooling2d_1 ( (None, 512)               0         \n",
            "=================================================================\n",
            "Total params: 14,714,688\n",
            "Trainable params: 14,714,688\n",
            "Non-trainable params: 0\n",
            "_________________________________________________________________\n"
          ],
          "name": "stdout"
        }
      ]
    },
    {
      "cell_type": "code",
      "metadata": {
        "id": "gf0_6QCUPIPM",
        "outputId": "2d8349df-4e18-4874-c81a-97e0fbcc5227",
        "colab": {
          "base_uri": "https://localhost:8080/",
          "height": 35
        }
      },
      "source": [
        "from tqdm import tqdm\n",
        "import cv2\n",
        "x_feature = []\n",
        "y_feature = []\n",
        "\n",
        "i = 0 # initialisation\n",
        "for f, img in tqdm(labels.values): # f for format ,jpg\n",
        "    train_img = cv2.imread('./train/{}.jpg'.format(f),1)\n",
        "    label = one_hot_labels[i]\n",
        "    train_img_resize = cv2.resize(train_img, (img_rows, img_cols)) \n",
        "    x_feature.append(train_img_resize)\n",
        "    y_feature.append(label)\n",
        "    i += 1"
      ],
      "execution_count": null,
      "outputs": [
        {
          "output_type": "stream",
          "text": [
            "100%|██████████| 10222/10222 [00:31<00:00, 327.36it/s]\n"
          ],
          "name": "stderr"
        }
      ]
    },
    {
      "cell_type": "markdown",
      "metadata": {
        "id": "VmZkZPHvSvG1"
      },
      "source": [
        "### Get Image embedding from the pre-trained model and use that as input to present model"
      ]
    },
    {
      "cell_type": "code",
      "metadata": {
        "id": "-WWNncGlM56i",
        "outputId": "4ab8546a-f644-4009-8173-7b25e2ce1bd6",
        "colab": {
          "base_uri": "https://localhost:8080/",
          "height": 34
        }
      },
      "source": [
        "from keras.preprocessing import image\n",
        "\n",
        "X_arr = []\n",
        "# X_arr = base_model.predict(preprocess_input(img_to_array(image.load_img('./train/'+labels['id'][0]+'.jpg', target_size=[128,128]))))\n",
        "\n",
        "for id, label in tqdm(labels.values):\n",
        "    X_arr.append(base_model.predict(preprocess_input(np.expand_dims(image.img_to_array(image.load_img('./train/'+id+'.jpg', target_size=[128,128])), axis=0)))[0])\n",
        "X = pd.DataFrame(X_arr)"
      ],
      "execution_count": null,
      "outputs": [
        {
          "output_type": "stream",
          "text": [
            "100%|██████████| 10222/10222 [01:38<00:00, 103.64it/s]\n"
          ],
          "name": "stderr"
        }
      ]
    },
    {
      "cell_type": "code",
      "metadata": {
        "id": "8f0aFQslOCCr"
      },
      "source": [
        "from keras.layers import Activation\n",
        "model = Sequential([\n",
        "    Dense(1024, input_shape=(512,)),\n",
        "    Activation('relu'),\n",
        "    Dense(256, input_shape=(512,)),\n",
        "    Activation('relu'),\n",
        "    Dense(120),\n",
        "    Activation('softmax'),\n",
        "])\n",
        "\n",
        "model.compile(optimizer='adam',\n",
        "              loss='categorical_crossentropy',\n",
        "              metrics=['accuracy'])"
      ],
      "execution_count": null,
      "outputs": []
    },
    {
      "cell_type": "code",
      "metadata": {
        "id": "fN3uH8sbSgij"
      },
      "source": [
        "X_train = X\n",
        "y_train = y_feature"
      ],
      "execution_count": null,
      "outputs": []
    },
    {
      "cell_type": "code",
      "metadata": {
        "id": "7RM2SJtmSmRd",
        "outputId": "881bae40-462a-482f-deb2-e2a9994abfb5",
        "colab": {
          "base_uri": "https://localhost:8080/",
          "height": 1000
        }
      },
      "source": [
        "model.fit(X_train, np.asarray(y_train), epochs=100, batch_size=100, verbose=True)"
      ],
      "execution_count": null,
      "outputs": [
        {
          "output_type": "stream",
          "text": [
            "Epoch 1/100\n",
            "10222/10222 [==============================] - 1s 82us/step - loss: 4.7270 - acc: 0.1511\n",
            "Epoch 2/100\n",
            "10222/10222 [==============================] - 1s 56us/step - loss: 2.2170 - acc: 0.4311\n",
            "Epoch 3/100\n",
            "10222/10222 [==============================] - 1s 54us/step - loss: 1.5203 - acc: 0.5806\n",
            "Epoch 4/100\n",
            "10222/10222 [==============================] - 1s 57us/step - loss: 1.1159 - acc: 0.6781\n",
            "Epoch 5/100\n",
            "10222/10222 [==============================] - 1s 58us/step - loss: 0.7727 - acc: 0.7750\n",
            "Epoch 6/100\n",
            "10222/10222 [==============================] - 1s 58us/step - loss: 0.4882 - acc: 0.8624\n",
            "Epoch 7/100\n",
            "10222/10222 [==============================] - 1s 59us/step - loss: 0.2953 - acc: 0.9204\n",
            "Epoch 8/100\n",
            "10222/10222 [==============================] - 1s 52us/step - loss: 0.1505 - acc: 0.9667\n",
            "Epoch 9/100\n",
            "10222/10222 [==============================] - 1s 52us/step - loss: 0.1104 - acc: 0.9786\n",
            "Epoch 10/100\n",
            "10222/10222 [==============================] - 1s 53us/step - loss: 0.0989 - acc: 0.9785\n",
            "Epoch 11/100\n",
            "10222/10222 [==============================] - 1s 56us/step - loss: 0.0552 - acc: 0.9915\n",
            "Epoch 12/100\n",
            "10222/10222 [==============================] - 1s 54us/step - loss: 0.0277 - acc: 0.9959\n",
            "Epoch 13/100\n",
            "10222/10222 [==============================] - 1s 51us/step - loss: 0.0210 - acc: 0.9973\n",
            "Epoch 14/100\n",
            "10222/10222 [==============================] - 1s 49us/step - loss: 0.0204 - acc: 0.9966\n",
            "Epoch 15/100\n",
            "10222/10222 [==============================] - 1s 54us/step - loss: 0.1046 - acc: 0.9722\n",
            "Epoch 16/100\n",
            "10222/10222 [==============================] - 1s 53us/step - loss: 0.2722 - acc: 0.9183\n",
            "Epoch 17/100\n",
            "10222/10222 [==============================] - 1s 54us/step - loss: 0.4075 - acc: 0.8729\n",
            "Epoch 18/100\n",
            "10222/10222 [==============================] - 1s 50us/step - loss: 0.3104 - acc: 0.9030\n",
            "Epoch 19/100\n",
            "10222/10222 [==============================] - 1s 51us/step - loss: 0.1392 - acc: 0.9538\n",
            "Epoch 20/100\n",
            "10222/10222 [==============================] - 1s 52us/step - loss: 0.1067 - acc: 0.9674\n",
            "Epoch 21/100\n",
            "10222/10222 [==============================] - 1s 52us/step - loss: 0.0727 - acc: 0.9804\n",
            "Epoch 22/100\n",
            "10222/10222 [==============================] - 1s 55us/step - loss: 0.0594 - acc: 0.9843\n",
            "Epoch 23/100\n",
            "10222/10222 [==============================] - 1s 53us/step - loss: 0.0900 - acc: 0.9741\n",
            "Epoch 24/100\n",
            "10222/10222 [==============================] - 1s 54us/step - loss: 0.0853 - acc: 0.9740\n",
            "Epoch 25/100\n",
            "10222/10222 [==============================] - 1s 54us/step - loss: 0.0671 - acc: 0.9800\n",
            "Epoch 26/100\n",
            "10222/10222 [==============================] - 1s 55us/step - loss: 0.0942 - acc: 0.9714\n",
            "Epoch 27/100\n",
            "10222/10222 [==============================] - 1s 63us/step - loss: 0.0793 - acc: 0.9761\n",
            "Epoch 28/100\n",
            "10222/10222 [==============================] - 1s 62us/step - loss: 0.0882 - acc: 0.9732\n",
            "Epoch 29/100\n",
            "10222/10222 [==============================] - 1s 58us/step - loss: 0.0955 - acc: 0.9703\n",
            "Epoch 30/100\n",
            "10222/10222 [==============================] - 1s 53us/step - loss: 0.1594 - acc: 0.9529\n",
            "Epoch 31/100\n",
            "10222/10222 [==============================] - 1s 56us/step - loss: 0.1757 - acc: 0.9468\n",
            "Epoch 32/100\n",
            "10222/10222 [==============================] - 1s 54us/step - loss: 0.1509 - acc: 0.9574\n",
            "Epoch 33/100\n",
            "10222/10222 [==============================] - 1s 60us/step - loss: 0.0936 - acc: 0.9715\n",
            "Epoch 34/100\n",
            "10222/10222 [==============================] - 1s 62us/step - loss: 0.1073 - acc: 0.9672\n",
            "Epoch 35/100\n",
            "10222/10222 [==============================] - 1s 59us/step - loss: 0.1101 - acc: 0.9676\n",
            "Epoch 36/100\n",
            "10222/10222 [==============================] - 1s 55us/step - loss: 0.0731 - acc: 0.9786\n",
            "Epoch 37/100\n",
            "10222/10222 [==============================] - 1s 56us/step - loss: 0.0938 - acc: 0.9718\n",
            "Epoch 38/100\n",
            "10222/10222 [==============================] - 1s 55us/step - loss: 0.0558 - acc: 0.9846\n",
            "Epoch 39/100\n",
            "10222/10222 [==============================] - 1s 56us/step - loss: 0.0727 - acc: 0.9789\n",
            "Epoch 40/100\n",
            "10222/10222 [==============================] - 1s 57us/step - loss: 0.0445 - acc: 0.9852\n",
            "Epoch 41/100\n",
            "10222/10222 [==============================] - 1s 55us/step - loss: 0.0321 - acc: 0.9915\n",
            "Epoch 42/100\n",
            "10222/10222 [==============================] - 1s 57us/step - loss: 0.0409 - acc: 0.9891\n",
            "Epoch 43/100\n",
            "10222/10222 [==============================] - 1s 59us/step - loss: 0.0824 - acc: 0.9783\n",
            "Epoch 44/100\n",
            "10222/10222 [==============================] - 1s 64us/step - loss: 0.0759 - acc: 0.9785\n",
            "Epoch 45/100\n",
            "10222/10222 [==============================] - 1s 54us/step - loss: 0.1470 - acc: 0.9608\n",
            "Epoch 46/100\n",
            "10222/10222 [==============================] - 1s 55us/step - loss: 0.1907 - acc: 0.9508\n",
            "Epoch 47/100\n",
            "10222/10222 [==============================] - 1s 50us/step - loss: 0.1290 - acc: 0.9616\n",
            "Epoch 48/100\n",
            "10222/10222 [==============================] - 1s 54us/step - loss: 0.1115 - acc: 0.9699\n",
            "Epoch 49/100\n",
            "10222/10222 [==============================] - 1s 56us/step - loss: 0.0782 - acc: 0.9772\n",
            "Epoch 50/100\n",
            "10222/10222 [==============================] - 1s 56us/step - loss: 0.0863 - acc: 0.9743\n",
            "Epoch 51/100\n",
            "10222/10222 [==============================] - 1s 51us/step - loss: 0.1187 - acc: 0.9682\n",
            "Epoch 52/100\n",
            "10222/10222 [==============================] - 1s 56us/step - loss: 0.0828 - acc: 0.9783\n",
            "Epoch 53/100\n",
            "10222/10222 [==============================] - 1s 54us/step - loss: 0.0742 - acc: 0.9816\n",
            "Epoch 54/100\n",
            "10222/10222 [==============================] - 1s 53us/step - loss: 0.0751 - acc: 0.9812\n",
            "Epoch 55/100\n",
            "10222/10222 [==============================] - 1s 53us/step - loss: 0.0593 - acc: 0.9842\n",
            "Epoch 56/100\n",
            "10222/10222 [==============================] - 1s 58us/step - loss: 0.0551 - acc: 0.9851\n",
            "Epoch 57/100\n",
            "10222/10222 [==============================] - 1s 60us/step - loss: 0.0796 - acc: 0.9778\n",
            "Epoch 58/100\n",
            "10222/10222 [==============================] - 1s 59us/step - loss: 0.0910 - acc: 0.9751\n",
            "Epoch 59/100\n",
            "10222/10222 [==============================] - 1s 54us/step - loss: 0.1259 - acc: 0.9695\n",
            "Epoch 60/100\n",
            "10222/10222 [==============================] - 1s 51us/step - loss: 0.0816 - acc: 0.9794\n",
            "Epoch 61/100\n",
            "10222/10222 [==============================] - 1s 54us/step - loss: 0.0589 - acc: 0.9837\n",
            "Epoch 62/100\n",
            "10222/10222 [==============================] - 1s 55us/step - loss: 0.1105 - acc: 0.9720\n",
            "Epoch 63/100\n",
            "10222/10222 [==============================] - 1s 53us/step - loss: 0.1395 - acc: 0.9676\n",
            "Epoch 64/100\n",
            "10222/10222 [==============================] - 1s 52us/step - loss: 0.1005 - acc: 0.9737\n",
            "Epoch 65/100\n",
            "10222/10222 [==============================] - 1s 53us/step - loss: 0.0658 - acc: 0.9799\n",
            "Epoch 66/100\n",
            "10222/10222 [==============================] - 1s 55us/step - loss: 0.0401 - acc: 0.9888\n",
            "Epoch 67/100\n",
            "10222/10222 [==============================] - 1s 52us/step - loss: 0.0429 - acc: 0.9890\n",
            "Epoch 68/100\n",
            "10222/10222 [==============================] - 1s 53us/step - loss: 0.1006 - acc: 0.9773\n",
            "Epoch 69/100\n",
            "10222/10222 [==============================] - 1s 56us/step - loss: 0.0550 - acc: 0.9866\n",
            "Epoch 70/100\n",
            "10222/10222 [==============================] - 1s 57us/step - loss: 0.0356 - acc: 0.9902\n",
            "Epoch 71/100\n",
            "10222/10222 [==============================] - 1s 57us/step - loss: 0.0522 - acc: 0.9881\n",
            "Epoch 72/100\n",
            "10222/10222 [==============================] - 1s 55us/step - loss: 0.0594 - acc: 0.9859\n",
            "Epoch 73/100\n",
            "10222/10222 [==============================] - 1s 57us/step - loss: 0.0787 - acc: 0.9798\n",
            "Epoch 74/100\n",
            "10222/10222 [==============================] - 1s 60us/step - loss: 0.1052 - acc: 0.9756\n",
            "Epoch 75/100\n",
            "10222/10222 [==============================] - 1s 54us/step - loss: 0.1007 - acc: 0.9753\n",
            "Epoch 76/100\n",
            "10222/10222 [==============================] - 1s 56us/step - loss: 0.1424 - acc: 0.9689\n",
            "Epoch 77/100\n",
            "10222/10222 [==============================] - 1s 56us/step - loss: 0.0645 - acc: 0.9831\n",
            "Epoch 78/100\n",
            "10222/10222 [==============================] - 1s 55us/step - loss: 0.0839 - acc: 0.9794\n",
            "Epoch 79/100\n",
            "10222/10222 [==============================] - 1s 57us/step - loss: 0.0922 - acc: 0.9780\n",
            "Epoch 80/100\n",
            "10222/10222 [==============================] - 1s 57us/step - loss: 0.0606 - acc: 0.9856\n",
            "Epoch 81/100\n",
            "10222/10222 [==============================] - 1s 54us/step - loss: 0.0740 - acc: 0.9823\n",
            "Epoch 82/100\n",
            "10222/10222 [==============================] - 1s 58us/step - loss: 0.1029 - acc: 0.9776\n",
            "Epoch 83/100\n",
            "10222/10222 [==============================] - 1s 59us/step - loss: 0.0801 - acc: 0.9819\n",
            "Epoch 84/100\n",
            "10222/10222 [==============================] - 1s 60us/step - loss: 0.0895 - acc: 0.9817\n",
            "Epoch 85/100\n",
            "10222/10222 [==============================] - 1s 59us/step - loss: 0.1323 - acc: 0.9722\n",
            "Epoch 86/100\n",
            "10222/10222 [==============================] - 1s 58us/step - loss: 0.0916 - acc: 0.9788\n",
            "Epoch 87/100\n",
            "10222/10222 [==============================] - 1s 55us/step - loss: 0.0867 - acc: 0.9820\n",
            "Epoch 88/100\n",
            "10222/10222 [==============================] - 1s 56us/step - loss: 0.0961 - acc: 0.9799\n",
            "Epoch 89/100\n",
            "10222/10222 [==============================] - 1s 53us/step - loss: 0.0572 - acc: 0.9848\n",
            "Epoch 90/100\n",
            "10222/10222 [==============================] - 1s 54us/step - loss: 0.0772 - acc: 0.9829\n",
            "Epoch 91/100\n",
            "10222/10222 [==============================] - 1s 54us/step - loss: 0.0752 - acc: 0.9837\n",
            "Epoch 92/100\n",
            "10222/10222 [==============================] - 1s 54us/step - loss: 0.0851 - acc: 0.9828\n",
            "Epoch 93/100\n",
            "10222/10222 [==============================] - 1s 60us/step - loss: 0.0598 - acc: 0.9862\n",
            "Epoch 94/100\n",
            "10222/10222 [==============================] - 1s 53us/step - loss: 0.0607 - acc: 0.9859\n",
            "Epoch 95/100\n",
            "10222/10222 [==============================] - 1s 52us/step - loss: 0.0914 - acc: 0.9819\n",
            "Epoch 96/100\n",
            "10222/10222 [==============================] - 1s 51us/step - loss: 0.1060 - acc: 0.9773\n",
            "Epoch 97/100\n",
            "10222/10222 [==============================] - 1s 53us/step - loss: 0.1278 - acc: 0.9757\n",
            "Epoch 98/100\n",
            "10222/10222 [==============================] - 1s 54us/step - loss: 0.0772 - acc: 0.9831\n",
            "Epoch 99/100\n",
            "10222/10222 [==============================] - 1s 53us/step - loss: 0.0662 - acc: 0.9856\n",
            "Epoch 100/100\n",
            "10222/10222 [==============================] - 1s 52us/step - loss: 0.0468 - acc: 0.9891\n"
          ],
          "name": "stdout"
        },
        {
          "output_type": "execute_result",
          "data": {
            "text/plain": [
              "<keras.callbacks.History at 0x7fe6973b49e8>"
            ]
          },
          "metadata": {
            "tags": []
          },
          "execution_count": 28
        }
      ]
    },
    {
      "cell_type": "code",
      "metadata": {
        "id": "Mo6yWaBh4MG4"
      },
      "source": [],
      "execution_count": null,
      "outputs": []
    }
  ]
}