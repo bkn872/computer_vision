{
  "nbformat": 4,
  "nbformat_minor": 0,
  "metadata": {
    "colab": {
      "provenance": [],
      "collapsed_sections": [],
      "include_colab_link": true
    },
    "kernelspec": {
      "name": "python3",
      "display_name": "Python 3"
    },
    "accelerator": "GPU"
  },
  "cells": [
    {
      "cell_type": "markdown",
      "metadata": {
        "id": "view-in-github",
        "colab_type": "text"
      },
      "source": [
        "<a href=\"https://colab.research.google.com/github/bkn872/computer_vision/blob/main/cv_week1_mentor_casestudy_flowers_classifier_(1).ipynb\" target=\"_parent\"><img src=\"https://colab.research.google.com/assets/colab-badge.svg\" alt=\"Open In Colab\"/></a>"
      ]
    },
    {
      "cell_type": "markdown",
      "metadata": {
        "id": "ouZF_oN8SAS-"
      },
      "source": [
        "<h1>Case Study: Flowers CNN Classifier</h1>\n",
        "Flowers dataset (https://www.kaggle.com/alxmamaev/flowers-recognition) "
      ]
    },
    {
      "cell_type": "markdown",
      "metadata": {
        "id": "kCLdAkuKSLYa"
      },
      "source": [
        "*Make sure you activate Hardware accelerator in the settings. \n",
        "Go to Runtime --> Change runtime type --> Set Hardware Accelerator to GPU*"
      ]
    },
    {
      "cell_type": "code",
      "metadata": {
        "id": "rJeWLYj_LpaI",
        "colab": {
          "base_uri": "https://localhost:8080/"
        },
        "outputId": "e5ea6df1-6ecf-4eb1-db37-fad14684309c"
      },
      "source": [
        "%tensorflow_version 2.x"
      ],
      "execution_count": 1,
      "outputs": [
        {
          "output_type": "stream",
          "name": "stdout",
          "text": [
            "Colab only includes TensorFlow 2.x; %tensorflow_version has no effect.\n"
          ]
        }
      ]
    },
    {
      "cell_type": "markdown",
      "metadata": {
        "id": "UEB3KqhjSbJD"
      },
      "source": [
        "**Mounting Google Drive on to the Google Colab instance**"
      ]
    },
    {
      "cell_type": "code",
      "metadata": {
        "id": "DsCraWoxfIvp",
        "colab": {
          "base_uri": "https://localhost:8080/"
        },
        "outputId": "e8b2558a-5f34-41d1-af42-e774eb3ba9cc"
      },
      "source": [
        "from google.colab import drive\n",
        "drive.mount('/content/drive')"
      ],
      "execution_count": 2,
      "outputs": [
        {
          "output_type": "stream",
          "name": "stdout",
          "text": [
            "Mounted at /content/drive\n"
          ]
        }
      ]
    },
    {
      "cell_type": "markdown",
      "metadata": {
        "id": "LGGHMs7oNcwF"
      },
      "source": [
        "# New section"
      ]
    },
    {
      "cell_type": "markdown",
      "metadata": {
        "id": "93cfwi25SlSF"
      },
      "source": [
        "**Set the appropriate path for the datsaet zip provided**"
      ]
    },
    {
      "cell_type": "code",
      "metadata": {
        "id": "U2rV6UPvf9PV"
      },
      "source": [
        "images_path = \"/content/drive/My Drive/09_Computer_Vision/W1_Mentor/flowers.zip\""
      ],
      "execution_count": 8,
      "outputs": []
    },
    {
      "cell_type": "markdown",
      "metadata": {
        "id": "TF6IorgsSqG5"
      },
      "source": [
        "**Extracting the dataset.zip to the present working directory**"
      ]
    },
    {
      "cell_type": "code",
      "metadata": {
        "id": "6fF2XlCnfhDD"
      },
      "source": [
        "from zipfile import ZipFile\n",
        "with ZipFile(images_path,'r') as zip:\n",
        "  zip.extractall()"
      ],
      "execution_count": 9,
      "outputs": []
    },
    {
      "cell_type": "markdown",
      "metadata": {
        "id": "_qCQB-4eSwMK"
      },
      "source": [
        "*Check the list of files in the pwd(present working directory) by running command 'ls' and ensure 'dataset' folder has been generated*"
      ]
    },
    {
      "cell_type": "code",
      "metadata": {
        "id": "e_GB89vufuum",
        "colab": {
          "base_uri": "https://localhost:8080/"
        },
        "outputId": "c1969d6d-73d6-4910-84d7-9852b3019821"
      },
      "source": [
        "!ls"
      ],
      "execution_count": 10,
      "outputs": [
        {
          "output_type": "stream",
          "name": "stdout",
          "text": [
            "drive  flowers\tsample_data\n"
          ]
        }
      ]
    },
    {
      "cell_type": "markdown",
      "metadata": {
        "id": "dfoV8iFbTA52"
      },
      "source": [
        "**Importing required Keras modules**"
      ]
    },
    {
      "cell_type": "code",
      "metadata": {
        "id": "KpFyhikhgKHB"
      },
      "source": [
        "from tensorflow.keras.models import Sequential\n",
        "from tensorflow.keras.layers import Conv2D\n",
        "from tensorflow.keras.layers import MaxPooling2D\n",
        "from tensorflow.keras.layers import Flatten\n",
        "from tensorflow.keras.layers import Dense, Dropout\n",
        "from tensorflow.keras.optimizers import Adam"
      ],
      "execution_count": 11,
      "outputs": []
    },
    {
      "cell_type": "markdown",
      "metadata": {
        "id": "SM6ARMO1TFw-"
      },
      "source": [
        "<h2>Building the CNN Classifier</h2>"
      ]
    },
    {
      "cell_type": "code",
      "metadata": {
        "id": "RLhlFr9vg8Qq"
      },
      "source": [
        "# Initialising the CNN classifier\n",
        "classifier = Sequential()\n",
        "\n",
        "# Add a Convolution layer with 32 kernels of 3X3 shape with activation function ReLU\n",
        "classifier.add(Conv2D(32, (3, 3), input_shape = (64, 64, 3), activation = 'relu', padding = 'same'))\n",
        "\n",
        "# Add a Max Pooling layer of size 2X2\n",
        "classifier.add(MaxPooling2D(pool_size = (2, 2)))\n",
        "\n",
        "# Add another Convolution layer with 32 kernels of 3X3 shape with activation function ReLU\n",
        "classifier.add(Conv2D(32, (3, 3), activation = 'relu', padding = 'same'))\n",
        "\n",
        "# Adding another pooling layer\n",
        "classifier.add(MaxPooling2D(pool_size = (2, 2)))\n",
        "\n",
        "# Add another Convolution layer with 32 kernels of 3X3 shape with activation function ReLU\n",
        "classifier.add(Conv2D(32, (3, 3), activation = 'relu', padding = 'same'))\n",
        "\n",
        "# Adding another pooling layer\n",
        "classifier.add(MaxPooling2D(pool_size = (2, 2)))\n",
        "\n",
        "# Flattening the layer before fully connected layers\n",
        "classifier.add(Flatten())\n",
        "\n",
        "# Adding a fully connected layer with 512 neurons\n",
        "classifier.add(Dense(units = 512, activation = 'relu'))\n",
        "\n",
        "# Adding dropout with probability 0.5\n",
        "classifier.add(Dropout(0.5))\n",
        "\n",
        "\n",
        "# Adding a fully connected layer with 128 neurons\n",
        "classifier.add(Dense(units = 128, activation = 'relu'))\n",
        "\n",
        "\n",
        "# The final output layer with 5 neuron to predict the categorical classifcation\n",
        "classifier.add(Dense(units = 5, activation = 'softmax'))"
      ],
      "execution_count": 12,
      "outputs": []
    },
    {
      "cell_type": "markdown",
      "metadata": {
        "id": "xmlFKyBaToR2"
      },
      "source": [
        "**Compiling the CNN classifier with Adam optimizer (default Learning rate and other parameters)\n",
        "and Categorical Crossentropy as loss function and Accuracy as the metric to monitor**"
      ]
    },
    {
      "cell_type": "markdown",
      "metadata": {
        "id": "i97nysnzTuAZ"
      },
      "source": [
        "*Optionally you can use an optimizer with custom learning rate and passing it to the optimizer parameter of compile*\n",
        "\n",
        "*Eg: keras.optimizers.Adam(lr=0.001, beta_1=0.9, beta_2=0.999, epsilon=None, decay=0.0, amsgrad=False)*"
      ]
    },
    {
      "cell_type": "code",
      "metadata": {
        "id": "CtMbL_TvTnlp",
        "colab": {
          "base_uri": "https://localhost:8080/"
        },
        "outputId": "a4d387d3-0ab9-4139-9b3b-51828defbc00"
      },
      "source": [
        "opt = Adam(lr=0.001, beta_1=0.9, beta_2=0.999, epsilon=None, decay=0.001, amsgrad=False)\n",
        "classifier.compile(optimizer = opt, loss = 'categorical_crossentropy', metrics = ['accuracy'])"
      ],
      "execution_count": 13,
      "outputs": [
        {
          "output_type": "stream",
          "name": "stderr",
          "text": [
            "/usr/local/lib/python3.7/dist-packages/keras/optimizer_v2/adam.py:105: UserWarning: The `lr` argument is deprecated, use `learning_rate` instead.\n",
            "  super(Adam, self).__init__(name, **kwargs)\n"
          ]
        }
      ]
    },
    {
      "cell_type": "markdown",
      "metadata": {
        "id": "Dv0eDbXYUcgQ"
      },
      "source": [
        "**Dataset Pre-processing**"
      ]
    },
    {
      "cell_type": "markdown",
      "metadata": {
        "id": "jdKWE1o-UjB7"
      },
      "source": [
        "*ImageDataGenerator is a powerful preprocessing utility to generate training and \n",
        "testing data with common data augmentation techniques. It can also be used to  \n",
        "generate training data from Images stored in hierarchical directory structures\n",
        "For more options of ImageDataGenerator go to https://keras.io/preprocessing/image/*"
      ]
    },
    {
      "cell_type": "code",
      "metadata": {
        "id": "1djMyebthCGP",
        "colab": {
          "base_uri": "https://localhost:8080/"
        },
        "outputId": "629e49c8-07c5-4564-e150-32dded559c4b"
      },
      "source": [
        "from tensorflow.keras.preprocessing.image import ImageDataGenerator\n",
        "\n",
        "\n",
        "# Create data generator for training data with data augmentation and normalizing all\n",
        "# values by 255\n",
        "train_datagen = ImageDataGenerator(rescale = 1./255,\n",
        "                                   shear_range = 0.2,\n",
        "                                   zoom_range = 0.2,\n",
        "                                   horizontal_flip = True)\n",
        "\n",
        "\n",
        "test_datagen = ImageDataGenerator(rescale = 1./255)\n",
        "\n",
        "# Setting training data generator's source directory\n",
        "# Setting the target size to resize all the images to (64,64) as the model input layer expects 32X32 images\n",
        "\n",
        "training_set = train_datagen.flow_from_directory('./flowers/train',\n",
        "                                                 target_size = (64, 64),\n",
        "                                                 batch_size = 32,\n",
        "                                                 class_mode = 'categorical')\n",
        "\n",
        "# Setting testing data generator's source directory\n",
        "test_set = test_datagen.flow_from_directory('./flowers/test',\n",
        "                                            target_size = (64, 64),\n",
        "                                            batch_size = 32,\n",
        "                                            class_mode = 'categorical')\n",
        "\n",
        "\n",
        "# There are 3823 training images and 500 test images in total\n",
        "classifier.fit_generator(training_set,\n",
        "                         steps_per_epoch = int(3823/32),\n",
        "                         epochs = 20,\n",
        "                         validation_data = test_set,\n",
        "                         validation_steps = int(500/32))\n"
      ],
      "execution_count": 14,
      "outputs": [
        {
          "output_type": "stream",
          "name": "stdout",
          "text": [
            "Found 3823 images belonging to 5 classes.\n",
            "Found 500 images belonging to 5 classes.\n"
          ]
        },
        {
          "output_type": "stream",
          "name": "stderr",
          "text": [
            "/usr/local/lib/python3.7/dist-packages/ipykernel_launcher.py:34: UserWarning: `Model.fit_generator` is deprecated and will be removed in a future version. Please use `Model.fit`, which supports generators.\n"
          ]
        },
        {
          "output_type": "stream",
          "name": "stdout",
          "text": [
            "Epoch 1/20\n",
            "119/119 [==============================] - 26s 120ms/step - loss: 1.3532 - accuracy: 0.4078 - val_loss: 1.2123 - val_accuracy: 0.4688\n",
            "Epoch 2/20\n",
            "119/119 [==============================] - 14s 118ms/step - loss: 1.1121 - accuracy: 0.5473 - val_loss: 1.2037 - val_accuracy: 0.5063\n",
            "Epoch 3/20\n",
            "119/119 [==============================] - 14s 119ms/step - loss: 1.0046 - accuracy: 0.6067 - val_loss: 1.1619 - val_accuracy: 0.5333\n",
            "Epoch 4/20\n",
            "119/119 [==============================] - 15s 129ms/step - loss: 0.9314 - accuracy: 0.6442 - val_loss: 1.0644 - val_accuracy: 0.5437\n",
            "Epoch 5/20\n",
            "119/119 [==============================] - 14s 118ms/step - loss: 0.8628 - accuracy: 0.6645 - val_loss: 0.9758 - val_accuracy: 0.6083\n",
            "Epoch 6/20\n",
            "119/119 [==============================] - 14s 117ms/step - loss: 0.8047 - accuracy: 0.6869 - val_loss: 0.9282 - val_accuracy: 0.6104\n",
            "Epoch 7/20\n",
            "119/119 [==============================] - 14s 119ms/step - loss: 0.7639 - accuracy: 0.7014 - val_loss: 0.9689 - val_accuracy: 0.6104\n",
            "Epoch 8/20\n",
            "119/119 [==============================] - 14s 118ms/step - loss: 0.7221 - accuracy: 0.7278 - val_loss: 0.8780 - val_accuracy: 0.6167\n",
            "Epoch 9/20\n",
            "119/119 [==============================] - 14s 117ms/step - loss: 0.6892 - accuracy: 0.7394 - val_loss: 0.9630 - val_accuracy: 0.6083\n",
            "Epoch 10/20\n",
            "119/119 [==============================] - 14s 118ms/step - loss: 0.6624 - accuracy: 0.7452 - val_loss: 0.8656 - val_accuracy: 0.6292\n",
            "Epoch 11/20\n",
            "119/119 [==============================] - 14s 117ms/step - loss: 0.6545 - accuracy: 0.7571 - val_loss: 0.9408 - val_accuracy: 0.6104\n",
            "Epoch 12/20\n",
            "119/119 [==============================] - 14s 117ms/step - loss: 0.6239 - accuracy: 0.7621 - val_loss: 0.9730 - val_accuracy: 0.6229\n",
            "Epoch 13/20\n",
            "119/119 [==============================] - 14s 117ms/step - loss: 0.5930 - accuracy: 0.7763 - val_loss: 0.9433 - val_accuracy: 0.6292\n",
            "Epoch 14/20\n",
            "119/119 [==============================] - 14s 117ms/step - loss: 0.5770 - accuracy: 0.7819 - val_loss: 0.9182 - val_accuracy: 0.6187\n",
            "Epoch 15/20\n",
            "119/119 [==============================] - 14s 117ms/step - loss: 0.5532 - accuracy: 0.7908 - val_loss: 0.9394 - val_accuracy: 0.6333\n",
            "Epoch 16/20\n",
            "119/119 [==============================] - 15s 128ms/step - loss: 0.5276 - accuracy: 0.8080 - val_loss: 0.9245 - val_accuracy: 0.6229\n",
            "Epoch 17/20\n",
            "119/119 [==============================] - 14s 118ms/step - loss: 0.5029 - accuracy: 0.8154 - val_loss: 0.9308 - val_accuracy: 0.6375\n",
            "Epoch 18/20\n",
            "119/119 [==============================] - 14s 116ms/step - loss: 0.4797 - accuracy: 0.8154 - val_loss: 0.9423 - val_accuracy: 0.6375\n",
            "Epoch 19/20\n",
            "119/119 [==============================] - 14s 118ms/step - loss: 0.4811 - accuracy: 0.8219 - val_loss: 0.9917 - val_accuracy: 0.6354\n",
            "Epoch 20/20\n",
            "119/119 [==============================] - 14s 118ms/step - loss: 0.4573 - accuracy: 0.8299 - val_loss: 1.0149 - val_accuracy: 0.6354\n"
          ]
        },
        {
          "output_type": "execute_result",
          "data": {
            "text/plain": [
              "<keras.callbacks.History at 0x7f6390228990>"
            ]
          },
          "metadata": {},
          "execution_count": 14
        }
      ]
    },
    {
      "cell_type": "markdown",
      "metadata": {
        "id": "157MBWfwVORb"
      },
      "source": [
        "**Always save the model and its weights after training**"
      ]
    },
    {
      "cell_type": "code",
      "metadata": {
        "id": "WwvESxvvzRgz"
      },
      "source": [
        "classifier.save('./classifier.h5')\n",
        "\n",
        "classifier.save_weights('./classifier_weights.h5')"
      ],
      "execution_count": 15,
      "outputs": []
    },
    {
      "cell_type": "markdown",
      "metadata": {
        "id": "mw9MVESlVSq0"
      },
      "source": [
        "*Check the current directory if the weights have been saved*"
      ]
    },
    {
      "cell_type": "code",
      "metadata": {
        "id": "pHkGYUnpzbVQ",
        "colab": {
          "base_uri": "https://localhost:8080/"
        },
        "outputId": "9daf3f5e-c2d4-43bc-912b-84321feca209"
      },
      "source": [
        "!ls"
      ],
      "execution_count": 16,
      "outputs": [
        {
          "output_type": "stream",
          "name": "stdout",
          "text": [
            "classifier.h5  classifier_weights.h5  drive  flowers  sample_data\n"
          ]
        }
      ]
    },
    {
      "cell_type": "markdown",
      "metadata": {
        "id": "XKfWmfnTVWbO"
      },
      "source": [
        "<h2>Let's test the model now</h2>"
      ]
    },
    {
      "cell_type": "markdown",
      "metadata": {
        "id": "KRXKNJjWVzGq"
      },
      "source": [
        "**Load the pre-trained saved model**"
      ]
    },
    {
      "cell_type": "code",
      "metadata": {
        "id": "tB5k1sCWVwJt"
      },
      "source": [
        "\n",
        "from tensorflow.keras.models import load_model\n",
        "import numpy as np\n",
        "from tensorflow.keras.preprocessing import image\n",
        "\n",
        "# Load the pre trained model from the HDF5 file saved previously\n",
        "pretrained_model = load_model('./classifier.h5')\n",
        "pretrained_model.load_weights('./classifier_weights.h5')"
      ],
      "execution_count": 17,
      "outputs": []
    },
    {
      "cell_type": "markdown",
      "metadata": {
        "id": "8iFL22MKV-nB"
      },
      "source": [
        "**Testing the model on a test image from one of the test folders**"
      ]
    },
    {
      "cell_type": "code",
      "metadata": {
        "id": "FLrGrFCJhCmq",
        "colab": {
          "base_uri": "https://localhost:8080/"
        },
        "outputId": "89bcc2a8-496b-49ca-e381-3c6dfc92c9dd"
      },
      "source": [
        "import cv2\n",
        "test_image = cv2.imread('./flowers/test/daisy/100080576_f52e8ee070_n.jpg')\n",
        "# Resize the image to 64X64 shape to be compatible with the model\n",
        "test_image = cv2.resize(test_image,(64,64))\n",
        "\n",
        "# Check if the size of the Image array is compatible with Keras model\n",
        "print(test_image.shape)\n",
        "\n",
        "# If not compatible expand the dimensions to match with the Keras Input\n",
        "test_image = np.expand_dims(test_image, axis = 0)\n",
        "test_image =test_image*1/255.0\n",
        "\n",
        "#Check the size of the Image array again\n",
        "print('After expand_dims: '+ str(test_image.shape))\n",
        "\n",
        "\n",
        "#Predict the result of the test image\n",
        "result = classifier.predict(test_image)\n",
        "\n",
        "# Check the indices Image Data Generator has allotted to each folder\n",
        "classes_dict = training_set.class_indices\n",
        "print(classes_dict)\n",
        "\n",
        "# Creating a list of classes in test set for showing the result as the folder name\n",
        "prediction_class = []\n",
        "for class_name,index in classes_dict.items():\n",
        "  prediction_class.append(class_name)\n",
        "  \n",
        "print(result[0])\n",
        "\n",
        "# Index of the class with maximum probability\n",
        "predicted_index = np.argmax(result[0])\n",
        "\n",
        "# Print the name of the class\n",
        "print(prediction_class[predicted_index])"
      ],
      "execution_count": 18,
      "outputs": [
        {
          "output_type": "stream",
          "name": "stdout",
          "text": [
            "(64, 64, 3)\n",
            "After expand_dims: (1, 64, 64, 3)\n",
            "{'daisy': 0, 'dandelion': 1, 'rose': 2, 'sunflower': 3, 'tulip': 4}\n",
            "[0.05159406 0.6471605  0.25483924 0.00939844 0.03700782]\n",
            "dandelion\n"
          ]
        }
      ]
    },
    {
      "cell_type": "markdown",
      "metadata": {
        "id": "32IsbG8Ox2XN"
      },
      "source": [
        "**Generating a report on the test data**"
      ]
    },
    {
      "cell_type": "code",
      "metadata": {
        "id": "vXnGiGIKxzE5",
        "colab": {
          "base_uri": "https://localhost:8080/"
        },
        "outputId": "40157d57-75a4-4406-f238-0a15c9f6678f"
      },
      "source": [
        "# Re-initalizing the test data generator with shuffle=False to create the confusion matrix\n",
        "test_set = test_datagen.flow_from_directory('./flowers/test',\n",
        "                                            target_size = (64, 64),\n",
        "                                            batch_size = 32,\n",
        "                                            shuffle=False,\n",
        "                                            class_mode = 'categorical')\n",
        "\n",
        "# Predict the whole generator to get predictions\n",
        "Y_pred = classifier.predict_generator(test_set, int(500/32+1))\n",
        "\n",
        "# Find out the predictions classes with maximum probability\n",
        "y_pred = np.argmax(Y_pred, axis=1)\n",
        "\n",
        "# Utilities for confusion matrix\n",
        "from sklearn.metrics import classification_report, confusion_matrix\n",
        "\n",
        "# Printing the confusion matrix based on the actual data vs predicted data. \n",
        "print(confusion_matrix(test_set.classes, y_pred))\n",
        "\n",
        "# Printing the classification report\n",
        "print(classification_report(test_set.classes, y_pred, target_names=prediction_class))"
      ],
      "execution_count": 19,
      "outputs": [
        {
          "output_type": "stream",
          "name": "stdout",
          "text": [
            "Found 500 images belonging to 5 classes.\n"
          ]
        },
        {
          "output_type": "stream",
          "name": "stderr",
          "text": [
            "/usr/local/lib/python3.7/dist-packages/ipykernel_launcher.py:9: UserWarning: `Model.predict_generator` is deprecated and will be removed in a future version. Please use `Model.predict`, which supports generators.\n",
            "  if __name__ == '__main__':\n"
          ]
        },
        {
          "output_type": "stream",
          "name": "stdout",
          "text": [
            "[[73 12 12  3  0]\n",
            " [16 58  6 16  4]\n",
            " [16  5 60  3 16]\n",
            " [ 6  1  2 89  2]\n",
            " [ 2  1 51  8 38]]\n",
            "              precision    recall  f1-score   support\n",
            "\n",
            "       daisy       0.65      0.73      0.69       100\n",
            "   dandelion       0.75      0.58      0.66       100\n",
            "        rose       0.46      0.60      0.52       100\n",
            "   sunflower       0.75      0.89      0.81       100\n",
            "       tulip       0.63      0.38      0.48       100\n",
            "\n",
            "    accuracy                           0.64       500\n",
            "   macro avg       0.65      0.64      0.63       500\n",
            "weighted avg       0.65      0.64      0.63       500\n",
            "\n"
          ]
        }
      ]
    },
    {
      "cell_type": "markdown",
      "metadata": {
        "id": "lnp5BHrHWIuY"
      },
      "source": [
        "**We can play around with the model by adding regularization to the layers, adding more convolutional layers, etc., to improve the testing accuracy**"
      ]
    }
  ]
}