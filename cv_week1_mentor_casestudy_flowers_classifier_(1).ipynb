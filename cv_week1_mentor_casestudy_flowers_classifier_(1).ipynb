{
  "nbformat": 4,
  "nbformat_minor": 0,
  "metadata": {
    "colab": {
      "provenance": [],
      "collapsed_sections": [],
      "include_colab_link": true
    },
    "kernelspec": {
      "name": "python3",
      "display_name": "Python 3"
    },
    "accelerator": "GPU"
  },
  "cells": [
    {
      "cell_type": "markdown",
      "metadata": {
        "id": "view-in-github",
        "colab_type": "text"
      },
      "source": [
        "<a href=\"https://colab.research.google.com/github/bkn872/computer_vision/blob/main/cv_week1_mentor_casestudy_flowers_classifier_(1).ipynb\" target=\"_parent\"><img src=\"https://colab.research.google.com/assets/colab-badge.svg\" alt=\"Open In Colab\"/></a>"
      ]
    },
    {
      "cell_type": "markdown",
      "metadata": {
        "id": "ouZF_oN8SAS-"
      },
      "source": [
        "<h1>Case Study: Flowers CNN Classifier</h1>\n",
        "Flowers dataset (https://www.kaggle.com/alxmamaev/flowers-recognition) "
      ]
    },
    {
      "cell_type": "markdown",
      "metadata": {
        "id": "kCLdAkuKSLYa"
      },
      "source": [
        "*Make sure you activate Hardware accelerator in the settings. \n",
        "Go to Runtime --> Change runtime type --> Set Hardware Accelerator to GPU*"
      ]
    },
    {
      "cell_type": "code",
      "metadata": {
        "id": "rJeWLYj_LpaI",
        "colab": {
          "base_uri": "https://localhost:8080/"
        },
        "outputId": "8ebb7100-c541-4910-99e0-c3157d0f850b"
      },
      "source": [
        "%tensorflow_version 2.x"
      ],
      "execution_count": 1,
      "outputs": [
        {
          "output_type": "stream",
          "name": "stdout",
          "text": [
            "Colab only includes TensorFlow 2.x; %tensorflow_version has no effect.\n"
          ]
        }
      ]
    },
    {
      "cell_type": "markdown",
      "metadata": {
        "id": "UEB3KqhjSbJD"
      },
      "source": [
        "**Mounting Google Drive on to the Google Colab instance**"
      ]
    },
    {
      "cell_type": "code",
      "metadata": {
        "id": "DsCraWoxfIvp",
        "colab": {
          "base_uri": "https://localhost:8080/"
        },
        "outputId": "20d753dc-b574-4f57-a0ca-533751421c5a"
      },
      "source": [
        "from google.colab import drive\n",
        "drive.mount('/content/drive')"
      ],
      "execution_count": 2,
      "outputs": [
        {
          "output_type": "stream",
          "name": "stdout",
          "text": [
            "Mounted at /content/drive\n"
          ]
        }
      ]
    },
    {
      "cell_type": "markdown",
      "metadata": {
        "id": "LGGHMs7oNcwF"
      },
      "source": [
        "# New section"
      ]
    },
    {
      "cell_type": "markdown",
      "metadata": {
        "id": "93cfwi25SlSF"
      },
      "source": [
        "**Set the appropriate path for the datsaet zip provided**"
      ]
    },
    {
      "cell_type": "code",
      "metadata": {
        "id": "U2rV6UPvf9PV"
      },
      "source": [
        "images_path = \"/content/drive/My Drive/09_Computer_Vision/W1_Mentor/flowers.zip\""
      ],
      "execution_count": 3,
      "outputs": []
    },
    {
      "cell_type": "markdown",
      "metadata": {
        "id": "TF6IorgsSqG5"
      },
      "source": [
        "**Extracting the dataset.zip to the present working directory**"
      ]
    },
    {
      "cell_type": "code",
      "metadata": {
        "id": "6fF2XlCnfhDD"
      },
      "source": [
        "from zipfile import ZipFile\n",
        "with ZipFile(images_path,'r') as zip:\n",
        "  zip.extractall()"
      ],
      "execution_count": 4,
      "outputs": []
    },
    {
      "cell_type": "markdown",
      "metadata": {
        "id": "_qCQB-4eSwMK"
      },
      "source": [
        "*Check the list of files in the pwd(present working directory) by running command 'ls' and ensure 'dataset' folder has been generated*"
      ]
    },
    {
      "cell_type": "code",
      "metadata": {
        "id": "e_GB89vufuum",
        "colab": {
          "base_uri": "https://localhost:8080/"
        },
        "outputId": "9487b06b-f85d-4ccb-d831-424023c78668"
      },
      "source": [
        "!ls"
      ],
      "execution_count": 5,
      "outputs": [
        {
          "output_type": "stream",
          "name": "stdout",
          "text": [
            "drive  flowers\tsample_data\n"
          ]
        }
      ]
    },
    {
      "cell_type": "markdown",
      "metadata": {
        "id": "dfoV8iFbTA52"
      },
      "source": [
        "**Importing required Keras modules**"
      ]
    },
    {
      "cell_type": "code",
      "metadata": {
        "id": "KpFyhikhgKHB"
      },
      "source": [
        "from tensorflow.keras.models import Sequential\n",
        "from tensorflow.keras.layers import Conv2D\n",
        "from tensorflow.keras.layers import MaxPooling2D\n",
        "from tensorflow.keras.layers import Flatten\n",
        "from tensorflow.keras.layers import Dense, Dropout\n",
        "from tensorflow.keras.optimizers import Adam"
      ],
      "execution_count": 6,
      "outputs": []
    },
    {
      "cell_type": "markdown",
      "metadata": {
        "id": "SM6ARMO1TFw-"
      },
      "source": [
        "<h2>Building the CNN Classifier</h2>"
      ]
    },
    {
      "cell_type": "code",
      "metadata": {
        "id": "RLhlFr9vg8Qq"
      },
      "source": [
        "# Initialising the CNN classifier\n",
        "classifier = Sequential()\n",
        "\n",
        "# Add a Convolution layer with 32 kernels of 3X3 shape with activation function ReLU\n",
        "classifier.add(Conv2D(32, (3, 3), input_shape = (64, 64, 3), activation = 'relu', padding = 'same'))\n",
        "\n",
        "# Add a Max Pooling layer of size 2X2\n",
        "classifier.add(MaxPooling2D(pool_size = (2, 2)))\n",
        "\n",
        "# Add another Convolution layer with 32 kernels of 3X3 shape with activation function ReLU\n",
        "classifier.add(Conv2D(32, (3, 3), activation = 'relu', padding = 'same'))\n",
        "\n",
        "# Adding another pooling layer\n",
        "classifier.add(MaxPooling2D(pool_size = (2, 2)))\n",
        "\n",
        "# Add another Convolution layer with 32 kernels of 3X3 shape with activation function ReLU\n",
        "classifier.add(Conv2D(32, (3, 3), activation = 'relu', padding = 'same'))\n",
        "\n",
        "# Adding another pooling layer\n",
        "classifier.add(MaxPooling2D(pool_size = (2, 2)))\n",
        "\n",
        "# Flattening the layer before fully connected layers\n",
        "classifier.add(Flatten())\n",
        "\n",
        "# Adding a fully connected layer with 512 neurons\n",
        "classifier.add(Dense(units = 512, activation = 'relu'))\n",
        "\n",
        "# Adding dropout with probability 0.5\n",
        "classifier.add(Dropout(0.5))\n",
        "\n",
        "\n",
        "# Adding a fully connected layer with 128 neurons\n",
        "classifier.add(Dense(units = 128, activation = 'relu'))\n",
        "\n",
        "\n",
        "# The final output layer with 5 neuron to predict the categorical classifcation\n",
        "classifier.add(Dense(units = 5, activation = 'softmax'))"
      ],
      "execution_count": 7,
      "outputs": []
    },
    {
      "cell_type": "markdown",
      "metadata": {
        "id": "xmlFKyBaToR2"
      },
      "source": [
        "**Compiling the CNN classifier with Adam optimizer (default Learning rate and other parameters)\n",
        "and Categorical Crossentropy as loss function and Accuracy as the metric to monitor**"
      ]
    },
    {
      "cell_type": "markdown",
      "metadata": {
        "id": "i97nysnzTuAZ"
      },
      "source": [
        "*Optionally you can use an optimizer with custom learning rate and passing it to the optimizer parameter of compile*\n",
        "\n",
        "*Eg: keras.optimizers.Adam(lr=0.001, beta_1=0.9, beta_2=0.999, epsilon=None, decay=0.0, amsgrad=False)*"
      ]
    },
    {
      "cell_type": "code",
      "metadata": {
        "id": "CtMbL_TvTnlp",
        "colab": {
          "base_uri": "https://localhost:8080/"
        },
        "outputId": "2832a4ac-23d2-4a96-dcfe-0e2adaf1f93b"
      },
      "source": [
        "opt = Adam(lr=0.001, beta_1=0.9, beta_2=0.999, epsilon=None, decay=0.001, amsgrad=False)\n",
        "classifier.compile(optimizer = opt, loss = 'categorical_crossentropy', metrics = ['accuracy'])"
      ],
      "execution_count": 8,
      "outputs": [
        {
          "output_type": "stream",
          "name": "stderr",
          "text": [
            "/usr/local/lib/python3.7/dist-packages/keras/optimizer_v2/adam.py:105: UserWarning: The `lr` argument is deprecated, use `learning_rate` instead.\n",
            "  super(Adam, self).__init__(name, **kwargs)\n"
          ]
        }
      ]
    },
    {
      "cell_type": "markdown",
      "metadata": {
        "id": "Dv0eDbXYUcgQ"
      },
      "source": [
        "**Dataset Pre-processing**"
      ]
    },
    {
      "cell_type": "markdown",
      "metadata": {
        "id": "jdKWE1o-UjB7"
      },
      "source": [
        "*ImageDataGenerator is a powerful preprocessing utility to generate training and \n",
        "testing data with common data augmentation techniques. It can also be used to  \n",
        "generate training data from Images stored in hierarchical directory structures\n",
        "For more options of ImageDataGenerator go to https://keras.io/preprocessing/image/*"
      ]
    },
    {
      "cell_type": "code",
      "metadata": {
        "id": "1djMyebthCGP",
        "colab": {
          "base_uri": "https://localhost:8080/"
        },
        "outputId": "31b12a42-ea9f-4a05-a0fa-de6d970f2922"
      },
      "source": [
        "from tensorflow.keras.preprocessing.image import ImageDataGenerator\n",
        "\n",
        "\n",
        "# Create data generator for training data with data augmentation and normalizing all\n",
        "# values by 255\n",
        "train_datagen = ImageDataGenerator(rescale = 1./255,\n",
        "                                   shear_range = 0.2,\n",
        "                                   zoom_range = 0.2,\n",
        "                                   horizontal_flip = True)\n",
        "\n",
        "\n",
        "test_datagen = ImageDataGenerator(rescale = 1./255)\n",
        "\n",
        "# Setting training data generator's source directory\n",
        "# Setting the target size to resize all the images to (64,64) as the model input layer expects 32X32 images\n",
        "\n",
        "training_set = train_datagen.flow_from_directory('./flowers/train',\n",
        "                                                 target_size = (64, 64),\n",
        "                                                 batch_size = 32,\n",
        "                                                 class_mode = 'categorical')\n",
        "\n",
        "# Setting testing data generator's source directory\n",
        "test_set = test_datagen.flow_from_directory('./flowers/test',\n",
        "                                            target_size = (64, 64),\n",
        "                                            batch_size = 32,\n",
        "                                            class_mode = 'categorical')\n",
        "\n",
        "\n",
        "# There are 3823 training images and 500 test images in total\n",
        "classifier.fit_generator(training_set,\n",
        "                         steps_per_epoch = int(3823/32),\n",
        "                         epochs = 20,\n",
        "                         validation_data = test_set,\n",
        "                         validation_steps = int(500/32))\n"
      ],
      "execution_count": 9,
      "outputs": [
        {
          "output_type": "stream",
          "name": "stdout",
          "text": [
            "Found 3823 images belonging to 5 classes.\n",
            "Found 500 images belonging to 5 classes.\n"
          ]
        },
        {
          "output_type": "stream",
          "name": "stderr",
          "text": [
            "/usr/local/lib/python3.7/dist-packages/ipykernel_launcher.py:34: UserWarning: `Model.fit_generator` is deprecated and will be removed in a future version. Please use `Model.fit`, which supports generators.\n"
          ]
        },
        {
          "output_type": "stream",
          "name": "stdout",
          "text": [
            "Epoch 1/20\n",
            "119/119 [==============================] - 24s 109ms/step - loss: 1.3344 - accuracy: 0.4155 - val_loss: 1.2631 - val_accuracy: 0.4792\n",
            "Epoch 2/20\n",
            "119/119 [==============================] - 13s 107ms/step - loss: 1.0887 - accuracy: 0.5574 - val_loss: 1.0784 - val_accuracy: 0.5708\n",
            "Epoch 3/20\n",
            "119/119 [==============================] - 13s 106ms/step - loss: 0.9728 - accuracy: 0.6257 - val_loss: 0.9941 - val_accuracy: 0.5917\n",
            "Epoch 4/20\n",
            "119/119 [==============================] - 14s 118ms/step - loss: 0.9112 - accuracy: 0.6465 - val_loss: 1.0720 - val_accuracy: 0.5583\n",
            "Epoch 5/20\n",
            "119/119 [==============================] - 13s 106ms/step - loss: 0.8448 - accuracy: 0.6827 - val_loss: 1.0140 - val_accuracy: 0.6042\n",
            "Epoch 6/20\n",
            "119/119 [==============================] - 13s 109ms/step - loss: 0.8080 - accuracy: 0.6919 - val_loss: 0.9083 - val_accuracy: 0.6292\n",
            "Epoch 7/20\n",
            "119/119 [==============================] - 15s 125ms/step - loss: 0.7529 - accuracy: 0.7159 - val_loss: 0.8874 - val_accuracy: 0.6292\n",
            "Epoch 8/20\n",
            "119/119 [==============================] - 14s 116ms/step - loss: 0.7205 - accuracy: 0.7312 - val_loss: 0.9680 - val_accuracy: 0.6167\n",
            "Epoch 9/20\n",
            "119/119 [==============================] - 13s 106ms/step - loss: 0.7070 - accuracy: 0.7386 - val_loss: 0.9013 - val_accuracy: 0.6479\n",
            "Epoch 10/20\n",
            "119/119 [==============================] - 13s 108ms/step - loss: 0.6787 - accuracy: 0.7452 - val_loss: 0.8811 - val_accuracy: 0.6521\n",
            "Epoch 11/20\n",
            "119/119 [==============================] - 13s 108ms/step - loss: 0.6493 - accuracy: 0.7539 - val_loss: 0.8957 - val_accuracy: 0.6375\n",
            "Epoch 12/20\n",
            "119/119 [==============================] - 13s 109ms/step - loss: 0.6182 - accuracy: 0.7689 - val_loss: 0.8566 - val_accuracy: 0.6438\n",
            "Epoch 13/20\n",
            "119/119 [==============================] - 13s 109ms/step - loss: 0.5909 - accuracy: 0.7771 - val_loss: 0.8671 - val_accuracy: 0.6625\n",
            "Epoch 14/20\n",
            "119/119 [==============================] - 14s 119ms/step - loss: 0.5768 - accuracy: 0.7900 - val_loss: 0.9348 - val_accuracy: 0.6271\n",
            "Epoch 15/20\n",
            "119/119 [==============================] - 13s 110ms/step - loss: 0.5701 - accuracy: 0.7863 - val_loss: 0.9026 - val_accuracy: 0.6396\n",
            "Epoch 16/20\n",
            "119/119 [==============================] - 13s 108ms/step - loss: 0.5347 - accuracy: 0.7948 - val_loss: 0.8640 - val_accuracy: 0.6604\n",
            "Epoch 17/20\n",
            "119/119 [==============================] - 13s 110ms/step - loss: 0.5108 - accuracy: 0.8040 - val_loss: 0.9201 - val_accuracy: 0.6521\n",
            "Epoch 18/20\n",
            "119/119 [==============================] - 13s 112ms/step - loss: 0.5037 - accuracy: 0.8057 - val_loss: 0.9652 - val_accuracy: 0.6687\n",
            "Epoch 19/20\n",
            "119/119 [==============================] - 14s 114ms/step - loss: 0.4861 - accuracy: 0.8206 - val_loss: 0.8806 - val_accuracy: 0.6750\n",
            "Epoch 20/20\n",
            "119/119 [==============================] - 13s 109ms/step - loss: 0.4693 - accuracy: 0.8209 - val_loss: 0.8881 - val_accuracy: 0.6562\n"
          ]
        },
        {
          "output_type": "execute_result",
          "data": {
            "text/plain": [
              "<keras.callbacks.History at 0x7ffa50361b90>"
            ]
          },
          "metadata": {},
          "execution_count": 9
        }
      ]
    },
    {
      "cell_type": "markdown",
      "metadata": {
        "id": "157MBWfwVORb"
      },
      "source": [
        "**Always save the model and its weights after training**"
      ]
    },
    {
      "cell_type": "code",
      "metadata": {
        "id": "WwvESxvvzRgz"
      },
      "source": [
        "classifier.save('./classifier.h5')\n",
        "\n",
        "classifier.save_weights('./classifier_weights.h5')"
      ],
      "execution_count": 10,
      "outputs": []
    },
    {
      "cell_type": "markdown",
      "metadata": {
        "id": "mw9MVESlVSq0"
      },
      "source": [
        "*Check the current directory if the weights have been saved*"
      ]
    },
    {
      "cell_type": "code",
      "metadata": {
        "id": "pHkGYUnpzbVQ",
        "colab": {
          "base_uri": "https://localhost:8080/"
        },
        "outputId": "5c0ffe06-8bc5-4ee2-c232-719627110941"
      },
      "source": [
        "!ls"
      ],
      "execution_count": 11,
      "outputs": [
        {
          "output_type": "stream",
          "name": "stdout",
          "text": [
            "classifier.h5  classifier_weights.h5  drive  flowers  sample_data\n"
          ]
        }
      ]
    },
    {
      "cell_type": "markdown",
      "metadata": {
        "id": "XKfWmfnTVWbO"
      },
      "source": [
        "<h2>Let's test the model now</h2>"
      ]
    },
    {
      "cell_type": "markdown",
      "metadata": {
        "id": "KRXKNJjWVzGq"
      },
      "source": [
        "**Load the pre-trained saved model**"
      ]
    },
    {
      "cell_type": "code",
      "metadata": {
        "id": "tB5k1sCWVwJt"
      },
      "source": [
        "\n",
        "from tensorflow.keras.models import load_model\n",
        "import numpy as np\n",
        "from tensorflow.keras.preprocessing import image\n",
        "\n",
        "# Load the pre trained model from the HDF5 file saved previously\n",
        "pretrained_model = load_model('./classifier.h5')\n",
        "pretrained_model.load_weights('./classifier_weights.h5')"
      ],
      "execution_count": 12,
      "outputs": []
    },
    {
      "cell_type": "markdown",
      "metadata": {
        "id": "8iFL22MKV-nB"
      },
      "source": [
        "**Testing the model on a test image from one of the test folders**"
      ]
    },
    {
      "cell_type": "code",
      "metadata": {
        "id": "FLrGrFCJhCmq",
        "colab": {
          "base_uri": "https://localhost:8080/"
        },
        "outputId": "4b8fd9ca-0c99-4632-ef22-8b4406d6bb05"
      },
      "source": [
        "import cv2\n",
        "test_image = cv2.imread('./flowers/test/daisy/100080576_f52e8ee070_n.jpg')\n",
        "# Resize the image to 64X64 shape to be compatible with the model\n",
        "test_image = cv2.resize(test_image,(64,64))\n",
        "\n",
        "# Check if the size of the Image array is compatible with Keras model\n",
        "print(test_image.shape)\n",
        "\n",
        "# If not compatible expand the dimensions to match with the Keras Input\n",
        "test_image = np.expand_dims(test_image, axis = 0)\n",
        "test_image =test_image*1/255.0\n",
        "\n",
        "#Check the size of the Image array again\n",
        "print('After expand_dims: '+ str(test_image.shape))\n",
        "\n",
        "\n",
        "#Predict the result of the test image\n",
        "result = classifier.predict(test_image)\n",
        "\n",
        "# Check the indices Image Data Generator has allotted to each folder\n",
        "classes_dict = training_set.class_indices\n",
        "print(classes_dict)\n",
        "\n",
        "# Creating a list of classes in test set for showing the result as the folder name\n",
        "prediction_class = []\n",
        "for class_name,index in classes_dict.items():\n",
        "  prediction_class.append(class_name)\n",
        "  \n",
        "print(result[0])\n",
        "\n",
        "# Index of the class with maximum probability\n",
        "predicted_index = np.argmax(result[0])\n",
        "\n",
        "# Print the name of the class\n",
        "print(prediction_class[predicted_index])"
      ],
      "execution_count": 13,
      "outputs": [
        {
          "output_type": "stream",
          "name": "stdout",
          "text": [
            "(64, 64, 3)\n",
            "After expand_dims: (1, 64, 64, 3)\n",
            "{'daisy': 0, 'dandelion': 1, 'rose': 2, 'sunflower': 3, 'tulip': 4}\n",
            "[0.26025596 0.2978215  0.32064524 0.01773995 0.10353738]\n",
            "rose\n"
          ]
        }
      ]
    },
    {
      "cell_type": "markdown",
      "metadata": {
        "id": "32IsbG8Ox2XN"
      },
      "source": [
        "**Generating a report on the test data**"
      ]
    },
    {
      "cell_type": "code",
      "metadata": {
        "id": "vXnGiGIKxzE5",
        "colab": {
          "base_uri": "https://localhost:8080/"
        },
        "outputId": "5aa25c8f-2cbf-42cd-f91a-02fc2ded7834"
      },
      "source": [
        "# Re-initalizing the test data generator with shuffle=False to create the confusion matrix\n",
        "test_set = test_datagen.flow_from_directory('./flowers/test',\n",
        "                                            target_size = (64, 64),\n",
        "                                            batch_size = 32,\n",
        "                                            shuffle=False,\n",
        "                                            class_mode = 'categorical')\n",
        "\n",
        "# Predict the whole generator to get predictions\n",
        "Y_pred = classifier.predict_generator(test_set, int(500/32+1))\n",
        "\n",
        "# Find out the predictions classes with maximum probability\n",
        "y_pred = np.argmax(Y_pred, axis=1)\n",
        "\n",
        "# Utilities for confusion matrix\n",
        "from sklearn.metrics import classification_report, confusion_matrix\n",
        "\n",
        "# Printing the confusion matrix based on the actual data vs predicted data. \n",
        "print(confusion_matrix(test_set.classes, y_pred))\n",
        "\n",
        "# Printing the classification report\n",
        "print(classification_report(test_set.classes, y_pred, target_names=prediction_class))"
      ],
      "execution_count": 14,
      "outputs": [
        {
          "output_type": "stream",
          "name": "stdout",
          "text": [
            "Found 500 images belonging to 5 classes.\n"
          ]
        },
        {
          "output_type": "stream",
          "name": "stderr",
          "text": [
            "/usr/local/lib/python3.7/dist-packages/ipykernel_launcher.py:9: UserWarning: `Model.predict_generator` is deprecated and will be removed in a future version. Please use `Model.predict`, which supports generators.\n",
            "  if __name__ == '__main__':\n"
          ]
        },
        {
          "output_type": "stream",
          "name": "stdout",
          "text": [
            "[[67 13 14  2  4]\n",
            " [ 9 64  7 15  5]\n",
            " [ 6  4 50  6 34]\n",
            " [ 4  2  1 90  3]\n",
            " [ 1  1 32  7 59]]\n",
            "              precision    recall  f1-score   support\n",
            "\n",
            "       daisy       0.77      0.67      0.72       100\n",
            "   dandelion       0.76      0.64      0.70       100\n",
            "        rose       0.48      0.50      0.49       100\n",
            "   sunflower       0.75      0.90      0.82       100\n",
            "       tulip       0.56      0.59      0.58       100\n",
            "\n",
            "    accuracy                           0.66       500\n",
            "   macro avg       0.66      0.66      0.66       500\n",
            "weighted avg       0.66      0.66      0.66       500\n",
            "\n"
          ]
        }
      ]
    },
    {
      "cell_type": "markdown",
      "metadata": {
        "id": "lnp5BHrHWIuY"
      },
      "source": [
        "**We can play around with the model by adding regularization to the layers, adding more convolutional layers, etc., to improve the testing accuracy**"
      ]
    }
  ]
}