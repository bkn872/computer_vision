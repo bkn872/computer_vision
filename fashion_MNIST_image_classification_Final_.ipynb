{
  "cells": [
    {
      "cell_type": "markdown",
      "metadata": {
        "id": "view-in-github",
        "colab_type": "text"
      },
      "source": [
        "<a href=\"https://colab.research.google.com/github/bkn872/computer_vision/blob/main/fashion_MNIST_image_classification_Final_.ipynb\" target=\"_parent\"><img src=\"https://colab.research.google.com/assets/colab-badge.svg\" alt=\"Open In Colab\"/></a>"
      ]
    },
    {
      "cell_type": "markdown",
      "metadata": {
        "id": "dEWrAuP1WvgU"
      },
      "source": [
        "![alt text](GL_Logo.png \"Title\")"
      ]
    },
    {
      "cell_type": "markdown",
      "metadata": {
        "id": "RhW96MrlWvge"
      },
      "source": [
        "# Image Classifier - NB, SVM, KNN\n",
        "\n",
        "### Author - Krishnav Bhudeo Dave\n",
        "\n",
        "#### Engagement: Samsung \n",
        "\n",
        "##### Date - 26 April 2020\n",
        "\n",
        "- - - - - - - - - - - - - - - - - - - - - - - - - - - - - - - - - - - - - - - - - - - - - -"
      ]
    },
    {
      "cell_type": "markdown",
      "metadata": {
        "id": "wD4zd8YRWvgg"
      },
      "source": [
        "### Data Set - \n",
        "\n",
        "Domain: Mobile e-commerce\n",
        "\n",
        "Data: http://ufldl.stanford.edu/housenumbers/\n",
        "\n",
        "Also the data is attched as \"SVHN_single_grey1.h5\" along with this case study.\n",
        "\n",
        "#### About this dataset\n",
        "\n",
        "This data-set is Street View House Numbers where Images with many numbers. Clicked from various angles and houses.\n",
        "\n",
        "- - - - - - - - - - - - - - - - - - - - - - - - - - - - - - - - - - - - - - - - - - - - - -"
      ]
    },
    {
      "cell_type": "markdown",
      "metadata": {
        "id": "tGqT_SvKWvgh"
      },
      "source": [
        "### Steps to perform:\n",
        "\n",
        "##### 1. Import Libraries\n",
        "#### 2. Import Data set & Train test split the data\n",
        "##### 3. EDA\n",
        "##### 4. Data Preparation\n",
        "##### 5. Supervised Learning modeling\n",
        "##### 6. Model Testing\n",
        "##### 7. Improvisation\n",
        "\n",
        "- - - - - - - - - - - - - - - - - - - - - - - - - - - - - - - - - - - - - - - - - - - - - -"
      ]
    },
    {
      "cell_type": "markdown",
      "metadata": {
        "id": "7be4RyCyWvgj"
      },
      "source": [
        "#### 1. Import Libraries"
      ]
    },
    {
      "cell_type": "code",
      "execution_count": 23,
      "metadata": {
        "id": "zsNAAsgUWvgk"
      },
      "outputs": [],
      "source": [
        "# Time\n",
        "import time\n",
        "\n",
        "# Import images data as h5 format\n",
        "import h5py\n",
        "\n",
        "# model pickling\n",
        "import pickle \n",
        "\n",
        "# Text color\n",
        "from colorama import Fore,Style\n",
        "\n",
        "# warnings handling\n",
        "import warnings\n",
        "warnings.filterwarnings(\"ignore\")\n",
        "\n",
        "# Train test split\n",
        "from sklearn.model_selection import train_test_split\n",
        "\n",
        "# Numbers\n",
        "import numpy as np \n",
        "import pandas as pd \n",
        "\n",
        "# Plots\n",
        "import matplotlib.pyplot as plt\n",
        "import seaborn as sns\n",
        "\n",
        "# Model \n",
        "from sklearn. linear_model import LogisticRegression\n",
        "from sklearn.naive_bayes import GaussianNB,BernoulliNB,MultinomialNB\n",
        "from sklearn.neighbors import KNeighborsClassifier\n",
        "from sklearn.svm import SVC\n",
        "\n",
        "# Metrics\n",
        "from sklearn.metrics import accuracy_score\n",
        "from sklearn.metrics import confusion_matrix\n",
        "from sklearn.metrics import accuracy_score\n",
        "from sklearn.metrics import classification_report\n",
        "from sklearn import preprocessing\n",
        "\n",
        "# NLP\n",
        "from sklearn.feature_extraction.text import TfidfVectorizer\n",
        "from nltk.tokenize import RegexpTokenizer\n",
        "import numpy as np\n",
        "import re\n",
        "\n",
        "# model pickling\n",
        "import pickle \n",
        "\n",
        "# Text color\n",
        "from colorama import Fore,Style\n",
        "\n",
        "## Importing the Deep Learning libraries\n",
        "import tensorflow as tf\n",
        "\n",
        "import keras\n",
        "import numpy as np\n",
        "#from keras.datasets import mnist\n",
        "from keras.models import Sequential\n",
        "from keras.layers import Dense\n",
        "from keras.utils import np_utils\n",
        "\n",
        "\n",
        "# warnings handling\n",
        "import warnings\n",
        "warnings.filterwarnings(\"ignore\")"
      ]
    },
    {
      "cell_type": "markdown",
      "metadata": {
        "id": "N6w1beiCWvgn"
      },
      "source": [
        "- - - - - - - - - - - - - - - - - - - - - - - - - - - - - - - - - - - - - - - - - - - - - - \n",
        "\n",
        "#### Questions ?\n",
        "\n",
        "1. What is pickling a model ? How it is useful ?\n",
        "\n",
        "2. What are warnings ? \n",
        "\n",
        "- - - - - - - - - - - - - - - - - - - - - - - - - - - - - - - - - - - - - - - - - - - - - -"
      ]
    },
    {
      "cell_type": "markdown",
      "metadata": {
        "id": "P_1almQSWvgo"
      },
      "source": [
        "#### 2. Import Data set & Train test split the data"
      ]
    },
    {
      "cell_type": "code",
      "source": [
        "tf.keras.datasets.fashion_mnist.load_data()"
      ],
      "metadata": {
        "colab": {
          "base_uri": "https://localhost:8080/"
        },
        "id": "Ubr5CX_-jBK2",
        "outputId": "681c4c53-3eab-4c38-c6c5-18a1521d4cbe"
      },
      "execution_count": 24,
      "outputs": [
        {
          "output_type": "stream",
          "name": "stdout",
          "text": [
            "Downloading data from https://storage.googleapis.com/tensorflow/tf-keras-datasets/train-labels-idx1-ubyte.gz\n",
            "32768/29515 [=================================] - 0s 0us/step\n",
            "40960/29515 [=========================================] - 0s 0us/step\n",
            "Downloading data from https://storage.googleapis.com/tensorflow/tf-keras-datasets/train-images-idx3-ubyte.gz\n",
            "26427392/26421880 [==============================] - 0s 0us/step\n",
            "26435584/26421880 [==============================] - 0s 0us/step\n",
            "Downloading data from https://storage.googleapis.com/tensorflow/tf-keras-datasets/t10k-labels-idx1-ubyte.gz\n",
            "16384/5148 [===============================================================================================] - 0s 0us/step\n",
            "Downloading data from https://storage.googleapis.com/tensorflow/tf-keras-datasets/t10k-images-idx3-ubyte.gz\n",
            "4423680/4422102 [==============================] - 0s 0us/step\n",
            "4431872/4422102 [==============================] - 0s 0us/step\n"
          ]
        },
        {
          "output_type": "execute_result",
          "data": {
            "text/plain": [
              "((array([[[0, 0, 0, ..., 0, 0, 0],\n",
              "          [0, 0, 0, ..., 0, 0, 0],\n",
              "          [0, 0, 0, ..., 0, 0, 0],\n",
              "          ...,\n",
              "          [0, 0, 0, ..., 0, 0, 0],\n",
              "          [0, 0, 0, ..., 0, 0, 0],\n",
              "          [0, 0, 0, ..., 0, 0, 0]],\n",
              "  \n",
              "         [[0, 0, 0, ..., 0, 0, 0],\n",
              "          [0, 0, 0, ..., 0, 0, 0],\n",
              "          [0, 0, 0, ..., 0, 0, 0],\n",
              "          ...,\n",
              "          [0, 0, 0, ..., 0, 0, 0],\n",
              "          [0, 0, 0, ..., 0, 0, 0],\n",
              "          [0, 0, 0, ..., 0, 0, 0]],\n",
              "  \n",
              "         [[0, 0, 0, ..., 0, 0, 0],\n",
              "          [0, 0, 0, ..., 0, 0, 0],\n",
              "          [0, 0, 0, ..., 0, 0, 0],\n",
              "          ...,\n",
              "          [0, 0, 0, ..., 0, 0, 0],\n",
              "          [0, 0, 0, ..., 0, 0, 0],\n",
              "          [0, 0, 0, ..., 0, 0, 0]],\n",
              "  \n",
              "         ...,\n",
              "  \n",
              "         [[0, 0, 0, ..., 0, 0, 0],\n",
              "          [0, 0, 0, ..., 0, 0, 0],\n",
              "          [0, 0, 0, ..., 0, 0, 0],\n",
              "          ...,\n",
              "          [0, 0, 0, ..., 0, 0, 0],\n",
              "          [0, 0, 0, ..., 0, 0, 0],\n",
              "          [0, 0, 0, ..., 0, 0, 0]],\n",
              "  \n",
              "         [[0, 0, 0, ..., 0, 0, 0],\n",
              "          [0, 0, 0, ..., 0, 0, 0],\n",
              "          [0, 0, 0, ..., 0, 0, 0],\n",
              "          ...,\n",
              "          [0, 0, 0, ..., 0, 0, 0],\n",
              "          [0, 0, 0, ..., 0, 0, 0],\n",
              "          [0, 0, 0, ..., 0, 0, 0]],\n",
              "  \n",
              "         [[0, 0, 0, ..., 0, 0, 0],\n",
              "          [0, 0, 0, ..., 0, 0, 0],\n",
              "          [0, 0, 0, ..., 0, 0, 0],\n",
              "          ...,\n",
              "          [0, 0, 0, ..., 0, 0, 0],\n",
              "          [0, 0, 0, ..., 0, 0, 0],\n",
              "          [0, 0, 0, ..., 0, 0, 0]]], dtype=uint8),\n",
              "  array([9, 0, 0, ..., 3, 0, 5], dtype=uint8)),\n",
              " (array([[[0, 0, 0, ..., 0, 0, 0],\n",
              "          [0, 0, 0, ..., 0, 0, 0],\n",
              "          [0, 0, 0, ..., 0, 0, 0],\n",
              "          ...,\n",
              "          [0, 0, 0, ..., 0, 0, 0],\n",
              "          [0, 0, 0, ..., 0, 0, 0],\n",
              "          [0, 0, 0, ..., 0, 0, 0]],\n",
              "  \n",
              "         [[0, 0, 0, ..., 0, 0, 0],\n",
              "          [0, 0, 0, ..., 0, 0, 0],\n",
              "          [0, 0, 0, ..., 0, 0, 0],\n",
              "          ...,\n",
              "          [0, 0, 0, ..., 0, 0, 0],\n",
              "          [0, 0, 0, ..., 0, 0, 0],\n",
              "          [0, 0, 0, ..., 0, 0, 0]],\n",
              "  \n",
              "         [[0, 0, 0, ..., 0, 0, 0],\n",
              "          [0, 0, 0, ..., 0, 0, 0],\n",
              "          [0, 0, 0, ..., 0, 0, 0],\n",
              "          ...,\n",
              "          [0, 0, 0, ..., 0, 0, 0],\n",
              "          [0, 0, 0, ..., 0, 0, 0],\n",
              "          [0, 0, 0, ..., 0, 0, 0]],\n",
              "  \n",
              "         ...,\n",
              "  \n",
              "         [[0, 0, 0, ..., 0, 0, 0],\n",
              "          [0, 0, 0, ..., 0, 0, 0],\n",
              "          [0, 0, 0, ..., 0, 0, 0],\n",
              "          ...,\n",
              "          [0, 0, 0, ..., 0, 0, 0],\n",
              "          [0, 0, 0, ..., 0, 0, 0],\n",
              "          [0, 0, 0, ..., 0, 0, 0]],\n",
              "  \n",
              "         [[0, 0, 0, ..., 0, 0, 0],\n",
              "          [0, 0, 0, ..., 0, 0, 0],\n",
              "          [0, 0, 0, ..., 0, 0, 0],\n",
              "          ...,\n",
              "          [0, 0, 0, ..., 0, 0, 0],\n",
              "          [0, 0, 0, ..., 0, 0, 0],\n",
              "          [0, 0, 0, ..., 0, 0, 0]],\n",
              "  \n",
              "         [[0, 0, 0, ..., 0, 0, 0],\n",
              "          [0, 0, 0, ..., 0, 0, 0],\n",
              "          [0, 0, 0, ..., 0, 0, 0],\n",
              "          ...,\n",
              "          [0, 0, 0, ..., 0, 0, 0],\n",
              "          [0, 0, 0, ..., 0, 0, 0],\n",
              "          [0, 0, 0, ..., 0, 0, 0]]], dtype=uint8),\n",
              "  array([9, 2, 1, ..., 8, 1, 5], dtype=uint8)))"
            ]
          },
          "metadata": {},
          "execution_count": 24
        }
      ]
    },
    {
      "cell_type": "code",
      "source": [
        "fashion_mnist = keras.datasets.fashion_mnist"
      ],
      "metadata": {
        "id": "JpONrVlLjYc-"
      },
      "execution_count": 25,
      "outputs": []
    },
    {
      "cell_type": "code",
      "execution_count": 26,
      "metadata": {
        "id": "LavFHBReWvgp"
      },
      "outputs": [],
      "source": [
        "# # Open the file as readonly\n",
        "# h5f = h5py.File('/content/drive/My Drive/14_GL_Guru/SVHN_single_grey1.h5', 'r')\n",
        "\n",
        "# # Load the training, test and validation set\n",
        "# X_train = h5f['X_train'][:]\n",
        "# y_train1 = h5f['y_train'][:]\n",
        "# X_test = h5f['X_test'][:]\n",
        "# y_test1 = h5f['y_test'][:]\n",
        "\n",
        "# # Close this file\n",
        "# h5f.close()\n",
        "\n",
        "# # Shape and size of data\n",
        "# print(\"Training data size\\n\",X_train.shape,y_train1.shape)\n",
        "# print(\"\\nTesting data size\\n\",X_test.shape,y_test1.shape)"
      ]
    },
    {
      "cell_type": "code",
      "source": [
        "(X_train,y_train1), (X_test,y_test1) = fashion_mnist.load_data() "
      ],
      "metadata": {
        "id": "BsXHD55Qj6IE"
      },
      "execution_count": 27,
      "outputs": []
    },
    {
      "cell_type": "code",
      "source": [
        "print(X_train.shape)\n",
        "print(y_train1.shape)\n",
        "print(X_test.shape)\n",
        "print(y_test1.shape)"
      ],
      "metadata": {
        "colab": {
          "base_uri": "https://localhost:8080/"
        },
        "id": "x7yOxekZkBOa",
        "outputId": "7223fcd6-8767-4c16-db2b-f19cfd33f7a7"
      },
      "execution_count": 30,
      "outputs": [
        {
          "output_type": "stream",
          "name": "stdout",
          "text": [
            "(60000, 28, 28)\n",
            "(60000,)\n",
            "(10000, 28, 28)\n",
            "(10000,)\n"
          ]
        }
      ]
    },
    {
      "cell_type": "markdown",
      "metadata": {
        "id": "7G4qBirZWvgq"
      },
      "source": [
        "- - - - - - - - - - - - - - - - - - - - - - - - - - - - - - - - - - - - - - - - - - - - - - \n",
        "\n",
        "#### Questions ?\n",
        "\n",
        "1. List different sources from where you can import data into python. Try understanding the python command for the same.\n",
        "\n",
        "2. What is the default number of images <.head> command prints ? How to print 7 images ?\n",
        "\n",
        "3. How to print bottom most images of the dataset ?\n",
        "\n",
        "4. How to print images for range 100 - 200 ?\n",
        "\n",
        "5. How to print specific image ?  (hint: loc or iloc commands)\n",
        "\n",
        "- - - - - - - - - - - - - - - - - - - - - - - - - - - - - - - - - - - - - - - - - - - - - -"
      ]
    },
    {
      "cell_type": "markdown",
      "metadata": {
        "id": "lKBDa3AgWvgr"
      },
      "source": [
        "#### 3. EDA"
      ]
    },
    {
      "cell_type": "code",
      "execution_count": 31,
      "metadata": {
        "colab": {
          "base_uri": "https://localhost:8080/"
        },
        "id": "OseCQXnQWvgs",
        "outputId": "9bfb95be-d571-4c0f-a8b6-8f34fac739be"
      },
      "outputs": [
        {
          "output_type": "execute_result",
          "data": {
            "text/plain": [
              "array([[[  0,   0,   0,   0,   0,   0,   0,   0,   0,   0,   0,   0,\n",
              "           0,   0,   0,   0,   0,   0,   0,   0,   0,   0,   0,   0,\n",
              "           0,   0,   0,   0],\n",
              "        [  0,   0,   0,   0,   0,   0,   0,   0,   0,   0,   0,   0,\n",
              "           0,   0,   0,   0,   0,   0,   0,   0,   0,   0,   0,   0,\n",
              "           0,   0,   0,   0],\n",
              "        [  0,   0,   0,   0,   0,   0,   0,   0,   0,   0,   0,   0,\n",
              "           0,   0,   0,   0,   0,   0,   0,   0,   0,   0,   0,   0,\n",
              "           0,   0,   0,   0],\n",
              "        [  0,   0,   0,   0,   0,   0,   0,   0,   0,   0,   0,   0,\n",
              "           1,   0,   0,  13,  73,   0,   0,   1,   4,   0,   0,   0,\n",
              "           0,   1,   1,   0],\n",
              "        [  0,   0,   0,   0,   0,   0,   0,   0,   0,   0,   0,   0,\n",
              "           3,   0,  36, 136, 127,  62,  54,   0,   0,   0,   1,   3,\n",
              "           4,   0,   0,   3],\n",
              "        [  0,   0,   0,   0,   0,   0,   0,   0,   0,   0,   0,   0,\n",
              "           6,   0, 102, 204, 176, 134, 144, 123,  23,   0,   0,   0,\n",
              "           0,  12,  10,   0],\n",
              "        [  0,   0,   0,   0,   0,   0,   0,   0,   0,   0,   0,   0,\n",
              "           0,   0, 155, 236, 207, 178, 107, 156, 161, 109,  64,  23,\n",
              "          77, 130,  72,  15],\n",
              "        [  0,   0,   0,   0,   0,   0,   0,   0,   0,   0,   0,   1,\n",
              "           0,  69, 207, 223, 218, 216, 216, 163, 127, 121, 122, 146,\n",
              "         141,  88, 172,  66],\n",
              "        [  0,   0,   0,   0,   0,   0,   0,   0,   0,   1,   1,   1,\n",
              "           0, 200, 232, 232, 233, 229, 223, 223, 215, 213, 164, 127,\n",
              "         123, 196, 229,   0],\n",
              "        [  0,   0,   0,   0,   0,   0,   0,   0,   0,   0,   0,   0,\n",
              "           0, 183, 225, 216, 223, 228, 235, 227, 224, 222, 224, 221,\n",
              "         223, 245, 173,   0],\n",
              "        [  0,   0,   0,   0,   0,   0,   0,   0,   0,   0,   0,   0,\n",
              "           0, 193, 228, 218, 213, 198, 180, 212, 210, 211, 213, 223,\n",
              "         220, 243, 202,   0],\n",
              "        [  0,   0,   0,   0,   0,   0,   0,   0,   0,   1,   3,   0,\n",
              "          12, 219, 220, 212, 218, 192, 169, 227, 208, 218, 224, 212,\n",
              "         226, 197, 209,  52],\n",
              "        [  0,   0,   0,   0,   0,   0,   0,   0,   0,   0,   6,   0,\n",
              "          99, 244, 222, 220, 218, 203, 198, 221, 215, 213, 222, 220,\n",
              "         245, 119, 167,  56],\n",
              "        [  0,   0,   0,   0,   0,   0,   0,   0,   0,   4,   0,   0,\n",
              "          55, 236, 228, 230, 228, 240, 232, 213, 218, 223, 234, 217,\n",
              "         217, 209,  92,   0],\n",
              "        [  0,   0,   1,   4,   6,   7,   2,   0,   0,   0,   0,   0,\n",
              "         237, 226, 217, 223, 222, 219, 222, 221, 216, 223, 229, 215,\n",
              "         218, 255,  77,   0],\n",
              "        [  0,   3,   0,   0,   0,   0,   0,   0,   0,  62, 145, 204,\n",
              "         228, 207, 213, 221, 218, 208, 211, 218, 224, 223, 219, 215,\n",
              "         224, 244, 159,   0],\n",
              "        [  0,   0,   0,   0,  18,  44,  82, 107, 189, 228, 220, 222,\n",
              "         217, 226, 200, 205, 211, 230, 224, 234, 176, 188, 250, 248,\n",
              "         233, 238, 215,   0],\n",
              "        [  0,  57, 187, 208, 224, 221, 224, 208, 204, 214, 208, 209,\n",
              "         200, 159, 245, 193, 206, 223, 255, 255, 221, 234, 221, 211,\n",
              "         220, 232, 246,   0],\n",
              "        [  3, 202, 228, 224, 221, 211, 211, 214, 205, 205, 205, 220,\n",
              "         240,  80, 150, 255, 229, 221, 188, 154, 191, 210, 204, 209,\n",
              "         222, 228, 225,   0],\n",
              "        [ 98, 233, 198, 210, 222, 229, 229, 234, 249, 220, 194, 215,\n",
              "         217, 241,  65,  73, 106, 117, 168, 219, 221, 215, 217, 223,\n",
              "         223, 224, 229,  29],\n",
              "        [ 75, 204, 212, 204, 193, 205, 211, 225, 216, 185, 197, 206,\n",
              "         198, 213, 240, 195, 227, 245, 239, 223, 218, 212, 209, 222,\n",
              "         220, 221, 230,  67],\n",
              "        [ 48, 203, 183, 194, 213, 197, 185, 190, 194, 192, 202, 214,\n",
              "         219, 221, 220, 236, 225, 216, 199, 206, 186, 181, 177, 172,\n",
              "         181, 205, 206, 115],\n",
              "        [  0, 122, 219, 193, 179, 171, 183, 196, 204, 210, 213, 207,\n",
              "         211, 210, 200, 196, 194, 191, 195, 191, 198, 192, 176, 156,\n",
              "         167, 177, 210,  92],\n",
              "        [  0,   0,  74, 189, 212, 191, 175, 172, 175, 181, 185, 188,\n",
              "         189, 188, 193, 198, 204, 209, 210, 210, 211, 188, 188, 194,\n",
              "         192, 216, 170,   0],\n",
              "        [  2,   0,   0,   0,  66, 200, 222, 237, 239, 242, 246, 243,\n",
              "         244, 221, 220, 193, 191, 179, 182, 182, 181, 176, 166, 168,\n",
              "          99,  58,   0,   0],\n",
              "        [  0,   0,   0,   0,   0,   0,   0,  40,  61,  44,  72,  41,\n",
              "          35,   0,   0,   0,   0,   0,   0,   0,   0,   0,   0,   0,\n",
              "           0,   0,   0,   0],\n",
              "        [  0,   0,   0,   0,   0,   0,   0,   0,   0,   0,   0,   0,\n",
              "           0,   0,   0,   0,   0,   0,   0,   0,   0,   0,   0,   0,\n",
              "           0,   0,   0,   0],\n",
              "        [  0,   0,   0,   0,   0,   0,   0,   0,   0,   0,   0,   0,\n",
              "           0,   0,   0,   0,   0,   0,   0,   0,   0,   0,   0,   0,\n",
              "           0,   0,   0,   0]]], dtype=uint8)"
            ]
          },
          "metadata": {},
          "execution_count": 31
        }
      ],
      "source": [
        "# Display training data\n",
        "X_train[0:1]"
      ]
    },
    {
      "cell_type": "markdown",
      "metadata": {
        "id": "73jrDgXIWvgs"
      },
      "source": [
        "- - - - - - - - - - - - - - - - - - - - - - - - - - - - - - - - - - - - - - - - - - - - - -\n",
        "\n",
        "#### Questions:\n",
        "\n",
        "1. What this data represents ?\n",
        "\n",
        "2. How does it represent an image ?\n",
        "\n",
        "3. How do we know which number is represented by the above data ?\n",
        "\n",
        "- - - - - - - - - - - - - - - - - - - - - - - - - - - - - - - - - - - - - - - - - - - - - -"
      ]
    },
    {
      "cell_type": "code",
      "execution_count": 32,
      "metadata": {
        "colab": {
          "base_uri": "https://localhost:8080/"
        },
        "id": "G0BU4pwXWvgt",
        "outputId": "0355f089-aec8-41ef-a20e-5e3e767e652b"
      },
      "outputs": [
        {
          "output_type": "execute_result",
          "data": {
            "text/plain": [
              "array([9], dtype=uint8)"
            ]
          },
          "metadata": {},
          "execution_count": 32
        }
      ],
      "source": [
        "# Display training data target column\n",
        "y_train1[0:1]"
      ]
    },
    {
      "cell_type": "markdown",
      "metadata": {
        "id": "UQ2iPZN0Wvgt"
      },
      "source": [
        "- - - - - - - - - - - - - - - - - - - - - - - - - - - - - - - - - - - - - - - - - - - - - -\n",
        "\n",
        "#### Questions:\n",
        "\n",
        "1. What this data represents ?\n",
        "\n",
        "2. How does it represent an image ?\n",
        "\n",
        "3. How do we know which number is represented by the above data ?\n",
        "\n",
        "- - - - - - - - - - - - - - - - - - - - - - - - - - - - - - - - - - - - - - - - - - - - - -"
      ]
    },
    {
      "cell_type": "code",
      "execution_count": 33,
      "metadata": {
        "colab": {
          "base_uri": "https://localhost:8080/",
          "height": 95
        },
        "id": "vabmNcfoWvgu",
        "outputId": "e093a163-2d1a-4908-c2ca-25fadf3a195b"
      },
      "outputs": [
        {
          "output_type": "display_data",
          "data": {
            "text/plain": [
              "<Figure size 720x72 with 10 Axes>"
            ],
            "image/png": "[encoded data removed]"
          },
          "metadata": {
            "needs_background": "light"
          }
        },
        {
          "output_type": "stream",
          "name": "stdout",
          "text": [
            "label for each of the above image: [9 0 0 3 0 2 7 2 5 5]\n"
          ]
        }
      ],
      "source": [
        "# visualizing the first 10 images in the dataset and their labels\n",
        "\n",
        "plt.figure(figsize=(10, 1))\n",
        "for i in range(10):\n",
        "    plt.subplot(1, 10, i+1)\n",
        "    plt.imshow(X_train[i], cmap=\"gray\")  # use cmap as \"Greens\" or \"Blues\" or \"Reds\"\n",
        "    plt.axis('off')\n",
        "plt.show()\n",
        "print('label for each of the above image: %s' % (y_train1[0:10]))"
      ]
    },
    {
      "cell_type": "markdown",
      "metadata": {
        "id": "6SDcsgmrWvgv"
      },
      "source": [
        "- - - - - - - - - - - - - - - - - - - - - - - - - - - - - - - - - - - - - - - - - - - - - -\n",
        "\n",
        "#### Assignment:\n",
        "\n",
        "1. Print 100th imag and check the target\n",
        "\n",
        "2. Answer why in the first image we see number \"128\" but the target is \"2\" ? How to decide this and who has decided this ?\n",
        "\n",
        "- - - - - - - - - - - - - - - - - - - - - - - - - - - - - - - - - - - - - - - - - - - - - -"
      ]
    },
    {
      "cell_type": "markdown",
      "metadata": {
        "id": "OaYK8_jxWvgv"
      },
      "source": [
        "#### 4. Data Preparation"
      ]
    },
    {
      "cell_type": "code",
      "execution_count": 36,
      "metadata": {
        "id": "lSPPTsWPWvgv"
      },
      "outputs": [],
      "source": [
        "# # Reshape the images\n",
        "# X_train = X_train.reshape(X_train.shape[0], 28)\n",
        "# X_test = X_test.reshape(X_test.shape[0], 28)\n",
        "\n",
        "# # Normalize inputs from 0-255 to 0-1\n",
        "# X_train = X_train / 28.0\n",
        "# X_test = X_test / 28.0\n",
        "\n",
        "# print(X_train[0])\n",
        "# print(X_test[0])\n",
        "\n",
        "# # Data shape\n",
        "# print('\\n\\nTraining set', X_train.shape, y_train1.shape)\n",
        "# print('\\nTest set', X_test.shape, y_test1.shape)"
      ]
    },
    {
      "cell_type": "markdown",
      "metadata": {
        "id": "_TNnRm1DWvgw"
      },
      "source": [
        "- - - - - - - - - - - - - - - - - - - - - - - - - - - - - - - - - - - - - - - - - - - - - -\n",
        "\n",
        "#### Questions ?\n",
        "\n",
        "1. What is image reshape ?\n",
        "\n",
        "2. What is normalisation ? whay did we choose 255 as the number ?\n",
        "\n",
        "3. Compare training data before and after normalization. What did you get out of this ?\n",
        "\n",
        "- - - - - - - - - - - - - - - - - - - - - - - - - - - - - - - - - - - - - - - - - - - - - -"
      ]
    },
    {
      "cell_type": "code",
      "execution_count": 37,
      "metadata": {
        "colab": {
          "base_uri": "https://localhost:8080/"
        },
        "id": "2RidYa66Wvgw",
        "outputId": "3e32c59f-268f-42fc-9dc8-615f3964548a"
      },
      "outputs": [
        {
          "output_type": "stream",
          "name": "stdout",
          "text": [
            "One hot encoded output:\n",
            " [[0. 0. 0. 0. 0. 0. 0. 0. 0. 1.]\n",
            " [0. 0. 1. 0. 0. 0. 0. 0. 0. 0.]\n",
            " [0. 1. 0. 0. 0. 0. 0. 0. 0. 0.]\n",
            " [0. 1. 0. 0. 0. 0. 0. 0. 0. 0.]\n",
            " [0. 0. 0. 0. 0. 0. 1. 0. 0. 0.]]\n"
          ]
        }
      ],
      "source": [
        "# one hot encode outputs\n",
        "y_train = np_utils.to_categorical(y_train1)\n",
        "y_test = np_utils.to_categorical(y_test1)\n",
        "\n",
        "# no.of classes\n",
        "num_classes = y_test.shape[1]\n",
        "num_hidden = 32\n",
        "\n",
        "print(\"One hot encoded output:\\n\",y_test[0:5])"
      ]
    },
    {
      "cell_type": "markdown",
      "metadata": {
        "id": "W2XV4LQ-Wvgx"
      },
      "source": [
        "- - - - - - - - - - - - - - - - - - - - - - - - - - - - - - - - - - - - - - - - - - - - - -\n",
        "\n",
        "#### Questions ?\n",
        "\n",
        "1. What is one hot encoding ? How many unique classes we have as target ?\n",
        "\n",
        "2. Why did we on hot encode target column ?\n",
        "\n",
        "3. Except one hot encoding do we have any other method to achieve the same ?\n",
        "\n",
        "- - - - - - - - - - - - - - - - - - - - - - - - - - - - - - - - - - - - - - - - - - - - - -"
      ]
    },
    {
      "cell_type": "code",
      "execution_count": 40,
      "metadata": {
        "colab": {
          "base_uri": "https://localhost:8080/"
        },
        "id": "c9pn1WE3Wvgx",
        "outputId": "febaa3ac-3ec3-48be-f959-077529629a35"
      },
      "outputs": [
        {
          "output_type": "stream",
          "name": "stdout",
          "text": [
            "\n",
            " Training data: 1000\n",
            "\n",
            " Training Target data: 1000\n",
            "\n",
            " Testing data: 1000\n",
            "\n",
            " Testing Target data: 1000\n"
          ]
        }
      ],
      "source": [
        "# Flatten the images data \n",
        "\n",
        "# Training data\n",
        "x_train = []\n",
        "for i in range(42000):\n",
        "    x_train.append(X_train[i,:].flatten())\n",
        "\n",
        "# Testing data\n",
        "x_test = []\n",
        "for i in range(7000):\n",
        "    x_test.append(X_test[i,:].flatten())\n",
        "\n",
        "N=1000   # Try different values like 2000, 3000, 4000 .... 18000\n",
        "    \n",
        "x_train =x_train[:N] \n",
        "x_test =x_test[:N]\n",
        "\n",
        "# Target     \n",
        "y_train = y_train1[0:N]\n",
        "y_test = y_test1[0:N]\n",
        "\n",
        "   \n",
        "# Print data lengths\n",
        "\n",
        "print(\"\\n Training data:\",len(x_train))\n",
        "print(\"\\n Training Target data:\",len(y_train))\n",
        "print(\"\\n Testing data:\",len(x_test))\n",
        "print(\"\\n Testing Target data:\",len(y_test))"
      ]
    },
    {
      "cell_type": "markdown",
      "metadata": {
        "id": "ylAkymG4Wvgy"
      },
      "source": [
        "- - - - - - - - - - - - - - - - - - - - - - - - - - - - - - - - - - - - - - - - - - - - - - \n",
        "\n",
        "#### Questions ?\n",
        "\n",
        "1. Why do we mean by flatten the data ?\n",
        "\n",
        "2. Wy do we need to flatten the data ? \n",
        "\n",
        "- - - - - - - - - - - - - - - - - - - - - - - - - - - - - - - - - - - - - - - - - - - - - -"
      ]
    },
    {
      "cell_type": "markdown",
      "metadata": {
        "id": "caMRnCO3Wvgy"
      },
      "source": [
        "#### 5. Supervised Learning modeling"
      ]
    },
    {
      "cell_type": "code",
      "execution_count": 41,
      "metadata": {
        "colab": {
          "base_uri": "https://localhost:8080/"
        },
        "id": "_d8arQokWvgz",
        "outputId": "5d4fbe2d-6f12-421a-f672-d36cb8d58cee"
      },
      "outputs": [
        {
          "output_type": "stream",
          "name": "stdout",
          "text": [
            "kernel is = <class 'sklearn.naive_bayes.BernoulliNB'> \tScore= 0.694\n",
            "kernel is = <class 'sklearn.naive_bayes.GaussianNB'> \tScore= 0.522\n",
            "kernel is = <class 'sklearn.naive_bayes.MultinomialNB'> \tScore= 0.661\n"
          ]
        }
      ],
      "source": [
        "# NB - Find the best NBs kernels\n",
        "\n",
        "k=[BernoulliNB,GaussianNB,MultinomialNB]\n",
        "for i in range (len(k)):\n",
        "    NB_Classifier = k[i]()\n",
        "    NB_Classifier.fit(x_train, y_train)\n",
        "    print ('kernel is =',k[i], '\\tScore=',NB_Classifier.score(x_test, y_test))"
      ]
    },
    {
      "cell_type": "markdown",
      "metadata": {
        "id": "QEh3fw3VWvgz"
      },
      "source": [
        "- - - - - - - - - - - - - - - - - - - - - - - - - - - - - - - - - - - - - - - - - - - - - -\n",
        "\n",
        "#### Questions ?\n",
        "\n",
        "1. List differet NB methods ? \n",
        "\n",
        "2. What is Bernouli's NB method ? When to use this method ?\n",
        "\n",
        "3. What is Gaussian NB method ? When to use this method ?\n",
        "\n",
        "4. Any other hyper parameters we can alter to improve the prediction accuracy ?\n",
        "\n",
        "- - - - - - - - - - - - - - - - - - - - - - - - - - - - - - - - - - - - - - - - - - - - - -"
      ]
    },
    {
      "cell_type": "code",
      "execution_count": 42,
      "metadata": {
        "colab": {
          "base_uri": "https://localhost:8080/"
        },
        "id": "DQR3tv_nWvg0",
        "outputId": "86fb72f0-72ca-48e6-e704-27d566f0725f"
      },
      "outputs": [
        {
          "output_type": "stream",
          "name": "stdout",
          "text": [
            "\u001b[32m\n",
            "Accuracy using Naive Bayes :  0.661\n",
            "\u001b[34m\n",
            "Initiating pickling the model\n",
            "\u001b[32m\n",
            "Completed pickling the model\n",
            "\u001b[32m\n",
            "Reload the pickled model\n",
            "\u001b[34m\n",
            "Accuracy using Naive Bayes pickled model :  0.661\n"
          ]
        }
      ],
      "source": [
        "# NB - Model\n",
        "\n",
        "from sklearn.naive_bayes import GaussianNB\n",
        "from sklearn.metrics import accuracy_score\n",
        "\n",
        "NB = MultinomialNB()\n",
        "NB.fit(x_train, y_train)\n",
        "y_pred = NB.predict(x_test)\n",
        "NB_Accuracy=accuracy_score(y_test, y_pred, normalize = True)\n",
        "print(Fore.GREEN+\"\\nAccuracy using Naive Bayes : \", NB_Accuracy)\n",
        "\n",
        "#Pickle the file\n",
        "import pickle\n",
        "if NB_Accuracy>=0.05:\n",
        "    print(Fore.BLUE+\"\\nInitiating pickling the model\")\n",
        "    NB_Pickled = pickle.dumps(NB) \n",
        "    print(Fore.GREEN+\"\\nCompleted pickling the model\")\n",
        "else:\n",
        "    print(Fore.RED+\"\\nModel with poor performance\")\n",
        "\n",
        "print(Fore.GREEN+\"\\nReload the pickled model\")\n",
        "NB_Pickled_Load = pickle.loads(NB_Pickled)\n",
        "\n",
        "y_pred_1 = NB_Pickled_Load.predict(x_test)\n",
        "NB_Accuracy_Pickled = accuracy_score(y_true=y_test, y_pred=y_pred_1)\n",
        "print(Fore.BLUE+\"\\nAccuracy using Naive Bayes pickled model : \", NB_Accuracy_Pickled)"
      ]
    },
    {
      "cell_type": "code",
      "execution_count": 43,
      "metadata": {
        "colab": {
          "base_uri": "https://localhost:8080/"
        },
        "id": "cVgPfIOTWvg0",
        "outputId": "db1aecf4-9aac-49bc-c85d-260572e797d4"
      },
      "outputs": [
        {
          "output_type": "stream",
          "name": "stdout",
          "text": [
            "C= 0.1 \tKernel= linear \tScore= 0.785\n",
            "C= 0.2 \tKernel= linear \tScore= 0.785\n",
            "C= 0.3 \tKernel= linear \tScore= 0.785\n",
            "C= 0.4 \tKernel= linear \tScore= 0.785\n",
            "C= 0.5 \tKernel= linear \tScore= 0.785\n",
            "C= 0.6 \tKernel= linear \tScore= 0.785\n",
            "C= 0.7 \tKernel= linear \tScore= 0.785\n",
            "C= 0.8 \tKernel= linear \tScore= 0.785\n",
            "C= 0.9 \tKernel= linear \tScore= 0.785\n",
            "C= 1.0 \tKernel= linear \tScore= 0.785\n",
            "C= 0.1 \tKernel= rbf \tScore= 0.694\n",
            "C= 0.2 \tKernel= rbf \tScore= 0.721\n",
            "C= 0.3 \tKernel= rbf \tScore= 0.737\n",
            "C= 0.4 \tKernel= rbf \tScore= 0.749\n",
            "C= 0.5 \tKernel= rbf \tScore= 0.754\n",
            "C= 0.6 \tKernel= rbf \tScore= 0.767\n",
            "C= 0.7 \tKernel= rbf \tScore= 0.775\n",
            "C= 0.8 \tKernel= rbf \tScore= 0.785\n",
            "C= 0.9 \tKernel= rbf \tScore= 0.785\n",
            "C= 1.0 \tKernel= rbf \tScore= 0.786\n",
            "C= 0.1 \tKernel= sigmoid \tScore= 0.465\n",
            "C= 0.2 \tKernel= sigmoid \tScore= 0.553\n",
            "C= 0.3 \tKernel= sigmoid \tScore= 0.528\n",
            "C= 0.4 \tKernel= sigmoid \tScore= 0.504\n",
            "C= 0.5 \tKernel= sigmoid \tScore= 0.483\n",
            "C= 0.6 \tKernel= sigmoid \tScore= 0.458\n",
            "C= 0.7 \tKernel= sigmoid \tScore= 0.438\n",
            "C= 0.8 \tKernel= sigmoid \tScore= 0.43\n",
            "C= 0.9 \tKernel= sigmoid \tScore= 0.44\n",
            "C= 1.0 \tKernel= sigmoid \tScore= 0.426\n",
            "C= 0.1 \tKernel= poly \tScore= 0.65\n",
            "C= 0.2 \tKernel= poly \tScore= 0.69\n",
            "C= 0.3 \tKernel= poly \tScore= 0.699\n",
            "C= 0.4 \tKernel= poly \tScore= 0.706\n",
            "C= 0.5 \tKernel= poly \tScore= 0.713\n",
            "C= 0.6 \tKernel= poly \tScore= 0.717\n",
            "C= 0.7 \tKernel= poly \tScore= 0.72\n",
            "C= 0.8 \tKernel= poly \tScore= 0.719\n",
            "C= 0.9 \tKernel= poly \tScore= 0.725\n",
            "C= 1.0 \tKernel= poly \tScore= 0.723\n"
          ]
        }
      ],
      "source": [
        "# SVM - to find the best parameters\n",
        "\n",
        "from sklearn.svm import SVC\n",
        "\n",
        "c=np.arange(0.1,1.1,0.1)  # Range of C values\n",
        "\n",
        "kernels=['linear','rbf','sigmoid','poly']  # Range of kernels\n",
        "\n",
        "# Loop to find the best parameters for C and Kernels\n",
        "\n",
        "for k in range (len(kernels)):\n",
        "    for i in range (len(c)):\n",
        "        SVM_Classifier = SVC(C=c[i],kernel=kernels[k])\n",
        "        SVM_Classifier.fit(x_train, y_train)\n",
        "        print ('C=',round(c[i],2),\"\\tKernel=\",kernels[k],'\\tScore=',SVM_Classifier.score(x_test, y_test))"
      ]
    },
    {
      "cell_type": "code",
      "execution_count": 44,
      "metadata": {
        "colab": {
          "base_uri": "https://localhost:8080/"
        },
        "id": "uGKHZsQpWvg1",
        "outputId": "0f701853-17a2-401a-aad0-e47a4f9fb3f7"
      },
      "outputs": [
        {
          "output_type": "stream",
          "name": "stdout",
          "text": [
            "\u001b[32m\n",
            "Accuracy using SVM :  0.719\n",
            "\u001b[34m\n",
            "Initiating pickling the model\n",
            "\u001b[32m\n",
            "Completed pickling the model\n",
            "\u001b[30m\n",
            "Reload the pickled model\n",
            "\u001b[32m\n",
            "Accuracy using SVM pickled model :  0.719\n"
          ]
        }
      ],
      "source": [
        "# SVM - Model using best parameters from above\n",
        "\n",
        "from sklearn.svm import SVC\n",
        "SVM = SVC(C=0.8,kernel='poly')\n",
        "SVM.fit(x_train, y_train)\n",
        "SVM_Accuracy=SVM.score(x_test, y_test)\n",
        "print(Fore.GREEN+\"\\nAccuracy using SVM : \", SVM_Accuracy)\n",
        "\n",
        "#Pickle the file\n",
        "import pickle\n",
        "if SVM_Accuracy>=0.10:\n",
        "    print(Fore.BLUE+\"\\nInitiating pickling the model\")\n",
        "    SVM_Pickled = pickle.dumps(SVM) \n",
        "    print(Fore.GREEN+\"\\nCompleted pickling the model\")\n",
        "else:\n",
        "    print(Fore.RED+\"\\nModel with poor performance\")\n",
        "\n",
        "print(Fore.BLACK+\"\\nReload the pickled model\")\n",
        "SVM_Pickled_Load = pickle.loads(SVM_Pickled)\n",
        "\n",
        "y_pred_1 = SVM_Pickled_Load.predict(x_test)\n",
        "SVM_Accuracy_Pickled = accuracy_score(y_true=y_test, y_pred=y_pred_1)\n",
        "print(Fore.GREEN+\"\\nAccuracy using SVM pickled model : \", SVM_Accuracy_Pickled)"
      ]
    },
    {
      "cell_type": "markdown",
      "metadata": {
        "id": "0nKcXWAPWvg1"
      },
      "source": [
        "- - - - - - - - - - - - - - - - - - - - - - - - - - - - - - - - - - - - - - - - - - - - - -\n",
        "\n",
        "#### Questions ?\n",
        "\n",
        "1. What C value does ? How it is significant ?\n",
        "\n",
        "2. Select the best value of C from the above.\n",
        "\n",
        "3. Can we have value of C greater than 1 ? Upto what value we can go ?\n",
        "\n",
        "4. What does kernel do ? How it is significant ?\n",
        "\n",
        "5. Select the best value of kernel from the above.\n",
        "\n",
        "6. What does GAMMA do ? How it is significant ?\n",
        "\n",
        "- - - - - - - - - - - - - - - - - - - - - - - - - - - - - - - - - - - - - - - - - - - - - -"
      ]
    },
    {
      "cell_type": "code",
      "execution_count": 45,
      "metadata": {
        "colab": {
          "base_uri": "https://localhost:8080/"
        },
        "id": "22F0S8-KWvg1",
        "outputId": "2d30a1a0-808e-40cd-fd18-647599792069"
      },
      "outputs": [
        {
          "output_type": "stream",
          "name": "stdout",
          "text": [
            "The optimal number of neighbors is 7\n"
          ]
        }
      ],
      "source": [
        "# KNN - choosing the K value\n",
        "\n",
        "# creating odd list of K for KNN\n",
        "myList = list(range(2,20))\n",
        "\n",
        "# subsetting just the odd ones\n",
        "neighbors = list(filter(lambda x: x % 2 != 0, myList))\n",
        "\n",
        "# empty list that will hold accuracy scores\n",
        "ac_scores = []\n",
        "\n",
        "# perform accuracy metrics for values from 1,3,5....19\n",
        "for k in neighbors:\n",
        "    knn = KNeighborsClassifier(n_neighbors=k)\n",
        "    knn.fit(x_train, y_train)\n",
        "    # predict the response\n",
        "    y_pred = knn.predict(x_test)\n",
        "    # evaluate accuracy\n",
        "    scores = accuracy_score(y_test, y_pred)\n",
        "    ac_scores.append(scores)\n",
        "\n",
        "# changing to misclassification error\n",
        "MSE = [1 - x for x in ac_scores]\n",
        "\n",
        "# determining best k\n",
        "optimal_k = neighbors[MSE.index(min(MSE))]\n",
        "print(\"The optimal number of neighbors is %d\" % optimal_k)"
      ]
    },
    {
      "cell_type": "markdown",
      "metadata": {
        "id": "cTRsOBkXWvg2"
      },
      "source": [
        "- - - - - - - - - - - - - - - - - - - - - - - - - - - - - - - - - - - - - - - - - - - - - -\n",
        "\n",
        "#### Questions ?\n",
        "\n",
        "1. What K value does ? How it is significant ?\n",
        "\n",
        "2. Select the best value of C from the above.\n",
        "\n",
        "- - - - - - - - - - - - - - - - - - - - - - - - - - - - - - - - - - - - - - - - - - - - - -"
      ]
    },
    {
      "cell_type": "code",
      "execution_count": 46,
      "metadata": {
        "colab": {
          "base_uri": "https://localhost:8080/"
        },
        "id": "YUnZXpwVWvg2",
        "outputId": "615bcff7-5b88-4863-86d5-f889d1e8b466"
      },
      "outputs": [
        {
          "output_type": "stream",
          "name": "stdout",
          "text": [
            "\u001b[32m\n",
            "Accuracy using KNN :  0.752\n",
            "\u001b[34m\n",
            "Initiating pickling the model\n",
            "\u001b[32m\n",
            "Completed pickling the model\n",
            "\u001b[34m\n",
            "Reload the pickled model\n",
            "\u001b[30m\n",
            "Accuracy using KNN pickled model :  0.752\n"
          ]
        }
      ],
      "source": [
        "# KNN - Model using the best parameters form above\n",
        "\n",
        "from sklearn.neighbors import KNeighborsClassifier\n",
        "from sklearn.metrics import accuracy_score\n",
        "\n",
        "KNN = KNeighborsClassifier(n_neighbors=3)\n",
        "KNN.fit(x_train, y_train)\n",
        "# predict the response\n",
        "y_pred = KNN.predict(x_test)\n",
        "# evaluate accuracy\n",
        "KNN_Accuracy=accuracy_score(y_test, y_pred)\n",
        "print(Fore.GREEN+\"\\nAccuracy using KNN : \", KNN_Accuracy)\n",
        "\n",
        "\n",
        "#Pickle the file\n",
        "import pickle\n",
        "if KNN_Accuracy>=0.1:\n",
        "    print(Fore.BLUE+\"\\nInitiating pickling the model\")\n",
        "    KNN_Pickled = pickle.dumps(KNN) \n",
        "    print(Fore.GREEN+\"\\nCompleted pickling the model\")\n",
        "else:\n",
        "    print(Fore.RED+\"\\nModel with poor performance\")\n",
        "\n",
        "print(Fore.BLUE+\"\\nReload the pickled model\")\n",
        "KNN_Pickled_Load = pickle.loads(KNN_Pickled)\n",
        "\n",
        "y_pred_1 = KNN_Pickled_Load.predict(x_test)\n",
        "KNN_Accuracy_Pickled = accuracy_score(y_true=y_test, y_pred=y_pred_1)\n",
        "print(Fore.BLACK+\"\\nAccuracy using KNN pickled model : \", KNN_Accuracy_Pickled)"
      ]
    },
    {
      "cell_type": "markdown",
      "metadata": {
        "id": "nMEGNLxXWvg3"
      },
      "source": [
        "#### 9. Model Testing"
      ]
    },
    {
      "cell_type": "markdown",
      "metadata": {
        "id": "G-qEw525Wvg3"
      },
      "source": [
        "- - - - - - - - - - - - - - - - - - - - - - - - - - - - - - - - - - - - - - - - - - - - - -\n",
        "\n",
        "#### Assignment\n",
        "\n",
        "Use the above model to predict accuracy for any new data.\n",
        "\n",
        "- - - - - - - - - - - - - - - - - - - - - - - - - - - - - - - - - - - - - - - - - - - - - -"
      ]
    },
    {
      "cell_type": "markdown",
      "metadata": {
        "id": "bcKqnO3mWvg3"
      },
      "source": [
        "#### 10. Improvisation"
      ]
    },
    {
      "cell_type": "markdown",
      "metadata": {
        "id": "O1XItAd1Wvg3"
      },
      "source": [
        "- - - - - - - - - - - - - - - - - - - - - - - - - - - - - - - - - - - - - - - - - - - - - -\n",
        "\n",
        "#### Questions ?\n",
        "\n",
        "1. Do we need so many columns/fetures/pixels ? if yes, then how we will do that ?\n",
        "\n",
        "2. Can we delete some columns/fetures/pixels ?\n",
        "\n",
        "3. Deleting columns/fetures/pixels will impact our model to form pattern and in turn prediction ?\n",
        "\n",
        "4. Can we use more combinations of hyperparameters to achieve more accuracy ?\n",
        "\n",
        "5. Any other methods we can employ to improvise ? (hint: data split, data shuffle etc.)\n",
        "\n",
        "- - - - - - - - - - - - - - - - - - - - - - - - - - - - - - - - - - - - - - - - - - - - - -"
      ]
    },
    {
      "cell_type": "markdown",
      "metadata": {
        "id": "WauqXXt8Wvg4"
      },
      "source": [
        "- - - - - - - - - - - - - - - - - - - - - - - - - - - - - - - - - - - - - - - - - - - - - -\n",
        "\n",
        "#### Assignment\n",
        "\n",
        "Use the above model to increase the prediction accuracy. Model hould not be be an overfit model\n",
        "\n",
        "- - - - - - - - - - - - - - - - - - - - - - - - - - - - - - - - - - - - - - - - - - - - - -"
      ]
    },
    {
      "cell_type": "markdown",
      "metadata": {
        "id": "OMnwbIS6Wvg4"
      },
      "source": [
        "                                  End of case study"
      ]
    }
  ],
  "metadata": {
    "kernelspec": {
      "display_name": "Python 3",
      "language": "python",
      "name": "python3"
    },
    "language_info": {
      "codemirror_mode": {
        "name": "ipython",
        "version": 3
      },
      "file_extension": ".py",
      "mimetype": "text/x-python",
      "name": "python",
      "nbconvert_exporter": "python",
      "pygments_lexer": "ipython3",
      "version": "3.7.4"
    },
    "colab": {
      "provenance": [],
      "include_colab_link": true
    }
  },
  "nbformat": 4,
  "nbformat_minor": 0
}